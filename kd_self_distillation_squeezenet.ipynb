{
  "nbformat": 4,
  "nbformat_minor": 0,
  "metadata": {
    "colab": {
      "name": "kd_self_distillation_squeezenet.ipynb",
      "version": "0.3.2",
      "provenance": []
    },
    "kernelspec": {
      "name": "python3",
      "display_name": "Python 3"
    },
    "accelerator": "GPU"
  },
  "cells": [
    {
      "metadata": {
        "id": "fbs7222WvMVE",
        "colab_type": "text"
      },
      "cell_type": "markdown",
      "source": [
        "add image_preprocessing_ver_3.py"
      ]
    },
    {
      "metadata": {
        "id": "TyQAzOtMsk9j",
        "colab_type": "code",
        "colab": {}
      },
      "cell_type": "code",
      "source": [
        "import numpy as np\n",
        "import keras\n",
        "from keras.models import Model\n",
        "from keras.layers import Input, Convolution2D, MaxPooling2D\n",
        "from keras.layers import Activation, Dropout, GlobalAveragePooling2D, concatenate\n",
        "\n",
        "\n",
        "mean = np.array([0.485, 0.456, 0.406], dtype='float32')\n",
        "std = np.array([0.229, 0.224, 0.225], dtype='float32')\n",
        "\n",
        "\n",
        "def preprocess_input(x):\n",
        "    x /= 255.0\n",
        "    x -= mean\n",
        "    x /= std\n",
        "    return x\n",
        "\n",
        "\n",
        "# a building block of the SqueezeNet architecture\n",
        "def fire_module(number, x, squeeze, expand, weight_decay=None, trainable=False):\n",
        "    \n",
        "    module_name = 'fire' + number\n",
        "    \n",
        "    if trainable and weight_decay is not None:\n",
        "        kernel_regularizer = keras.regularizers.l2(weight_decay) \n",
        "    else:\n",
        "        kernel_regularizer = None\n",
        "    \n",
        "    x = Convolution2D(\n",
        "        squeeze, (1, 1), \n",
        "        name=module_name + '/' + 'squeeze',\n",
        "        trainable=trainable, \n",
        "        kernel_regularizer=kernel_regularizer\n",
        "    )(x)\n",
        "    x = Activation('relu')(x)\n",
        "\n",
        "    a = Convolution2D(\n",
        "        expand, (1, 1),\n",
        "        name=module_name + '/' + 'expand1x1',\n",
        "        trainable=trainable, \n",
        "        kernel_regularizer=kernel_regularizer\n",
        "    )(x)\n",
        "    a = Activation('relu')(a)\n",
        "\n",
        "    b = Convolution2D(\n",
        "        expand, (3, 3), padding='same',\n",
        "        name=module_name + '/' + 'expand3x3',\n",
        "        trainable=trainable, \n",
        "        kernel_regularizer=kernel_regularizer\n",
        "    )(x)\n",
        "    b = Activation('relu')(b)\n",
        "\n",
        "    return concatenate([a, b])\n",
        "\n",
        "\n",
        "def SqueezeNet(weight_decay, image_size=224):\n",
        "\n",
        "    image = Input(shape=(image_size, image_size, 3))\n",
        "\n",
        "    x = Convolution2D(\n",
        "        64, (3, 3), strides=(2, 2), name='conv1', \n",
        "        trainable=False\n",
        "    )(image) # 111, 111, 64\n",
        "    \n",
        "    x = Activation('relu')(x)\n",
        "    x = MaxPooling2D(pool_size=(3, 3), strides=(2, 2))(x) # 55, 55, 64\n",
        "\n",
        "    x = fire_module('2', x, squeeze=16, expand=64) # 55, 55, 128\n",
        "    x = fire_module('3', x, squeeze=16, expand=64) # 55, 55, 128\n",
        "    x = MaxPooling2D(pool_size=(3, 3), strides=(2, 2))(x) # 27, 27, 128\n",
        "\n",
        "    x = fire_module('4', x, squeeze=32, expand=128) # 27, 27, 256\n",
        "    x = fire_module('5', x, squeeze=32, expand=128) # 27, 27, 256\n",
        "    x = MaxPooling2D(pool_size=(3, 3), strides=(2, 2))(x) # 13, 13, 256\n",
        "    \n",
        "    x = fire_module('6', x, squeeze=48, expand=192) # 13, 13, 384\n",
        "    x = fire_module('7', x, squeeze=48, expand=192) # 13, 13, 384\n",
        "    x = fire_module('8', x, squeeze=64, expand=256) # 13, 13, 512\n",
        "    x = fire_module('9', x, squeeze=64, expand=256) # 13, 13, 512\n",
        "    \n",
        "    x = Dropout(0.5)(x)\n",
        "    x = Convolution2D(\n",
        "        10, (1, 1), name='conv10',\n",
        "        kernel_initializer=keras.initializers.RandomNormal(stddev=0.01),\n",
        "        kernel_regularizer=keras.regularizers.l2(weight_decay)\n",
        "    )(x) # 13, 13, 256\n",
        "    \n",
        "    x = Activation('relu')(x)\n",
        "    logits = GlobalAveragePooling2D()(x) # 256#10\n",
        "    probabilities = Activation('softmax')(logits)\n",
        "    \n",
        "    model = Model(image, probabilities)\n",
        "    #model.load_weights('squeezenet_weights.hdf5', by_name=True)\n",
        "    \n",
        "    return model\n",
        "\n"
      ],
      "execution_count": 0,
      "outputs": []
    },
    {
      "metadata": {
        "id": "pNjijkYAqkSA",
        "colab_type": "code",
        "colab": {}
      },
      "cell_type": "code",
      "source": [
        "import numpy as np\n",
        "\n",
        "import keras\n",
        "from keras import optimizers\n",
        "from keras.callbacks import ReduceLROnPlateau, EarlyStopping\n",
        "\n",
        "# use non standard flow_from_directory\n",
        "from image_preprocessing_ver3 import ImageDataGenerator\n",
        "# it outputs y_batch that contains logits(no one hot)\n",
        "# logits came from xception\n",
        "\n",
        "from keras.models import Model\n",
        "from keras.layers import Lambda, concatenate, Activation\n",
        "from keras.losses import categorical_crossentropy as logloss\n",
        "from keras.metrics import categorical_accuracy, top_k_categorical_accuracy\n",
        "from keras import backend as K\n",
        "\n",
        "\n",
        "import matplotlib.pyplot as plt\n",
        "%matplotlib inline"
      ],
      "execution_count": 0,
      "outputs": []
    },
    {
      "metadata": {
        "id": "AjGdGJq1q9nV",
        "colab_type": "code",
        "colab": {}
      },
      "cell_type": "code",
      "source": [
        "data_dir = 'img/'"
      ],
      "execution_count": 0,
      "outputs": []
    },
    {
      "metadata": {
        "id": "e6cxfCU-rDMU",
        "colab_type": "code",
        "colab": {}
      },
      "cell_type": "code",
      "source": [
        "train_logits = np.load('train_logits_temp1.npy')[()]\n",
        "val_logits = np.load('val_logits_temp1.npy')[()]"
      ],
      "execution_count": 0,
      "outputs": []
    },
    {
      "metadata": {
        "id": "c33VZssTrJQX",
        "colab_type": "code",
        "outputId": "4efb73d0-e398-4a3a-b1a3-951132cb2c39",
        "colab": {
          "base_uri": "https://localhost:8080/",
          "height": 54
        }
      },
      "cell_type": "code",
      "source": [
        "data_generator = ImageDataGenerator(\n",
        "    data_format='channels_last',\n",
        "    preprocessing_function=preprocess_input\n",
        ")\n",
        "\n",
        "# note: i'm also passing dicts of logits\n",
        "train_generator = data_generator.flow_from_directory(\n",
        "    data_dir + 'train', train_logits,\n",
        "    target_size=(299, 299),\n",
        "    batch_size=50,save_to_dir=\"/\"\n",
        ")\n",
        "\n",
        "val_generator = data_generator.flow_from_directory(\n",
        "    data_dir + 'val', val_logits,\n",
        "    target_size=(299, 299),\n",
        "    batch_size=50\n",
        ")\n"
      ],
      "execution_count": 0,
      "outputs": [
        {
          "output_type": "stream",
          "text": [
            "Found 5000 images belonging to 10 classes.\n",
            "Found 3000 images belonging to 10 classes.\n"
          ],
          "name": "stdout"
        }
      ]
    },
    {
      "metadata": {
        "id": "Cvo1sOz8rLn8",
        "colab_type": "code",
        "colab": {}
      },
      "cell_type": "code",
      "source": [
        "def softmax(x):\n",
        "    return np.exp(x)/np.exp(x).sum()"
      ],
      "execution_count": 0,
      "outputs": []
    },
    {
      "metadata": {
        "id": "cy7nWaldp_Bn",
        "colab_type": "code",
        "colab": {}
      },
      "cell_type": "code",
      "source": [
        "from PIL import Image as pil_image\n",
        "def array_to_img(x, data_format=None, scale=True):\n",
        "    \"\"\"Converts a 3D Numpy array to a PIL Image instance.\n",
        "    # Arguments\n",
        "        x: Input Numpy array.\n",
        "        data_format: Image data format.\n",
        "        scale: Whether to rescale image values\n",
        "            to be within [0, 255].\n",
        "    # Returns\n",
        "        A PIL Image instance.\n",
        "    # Raises\n",
        "        ImportError: if PIL is not available.\n",
        "        ValueError: if invalid `x` or `data_format` is passed.\n",
        "    \"\"\"\n",
        "    if pil_image is None:\n",
        "        raise ImportError('Could not import PIL.Image. '\n",
        "                          'The use of `array_to_img` requires PIL.')\n",
        "    x = np.asarray(x, dtype=K.floatx())\n",
        "    if x.ndim != 3:\n",
        "        raise ValueError('Expected image array to have rank 3 (single image). '\n",
        "                         'Got array with shape:', x.shape)\n",
        "\n",
        "    if data_format is None:\n",
        "        data_format = K.image_data_format()\n",
        "    if data_format not in {'channels_first', 'channels_last'}:\n",
        "        raise ValueError('Invalid data_format:', data_format)\n",
        "\n",
        "    # Original Numpy array x has format (height, width, channel)\n",
        "    # or (channel, height, width)\n",
        "    # but target PIL image has format (width, height, channel)\n",
        "    if data_format == 'channels_first':\n",
        "        x = x.transpose(1, 2, 0)\n",
        "    if scale:\n",
        "        x = x + max(-np.min(x), 0)\n",
        "        x_max = np.max(x)\n",
        "        if x_max != 0:\n",
        "            x /= x_max\n",
        "        x *= 255\n",
        "    if x.shape[2] == 3:\n",
        "        # RGB\n",
        "        return pil_image.fromarray(x.astype('uint8'), 'RGB')\n",
        "    elif x.shape[2] == 1:\n",
        "        # grayscale\n",
        "        return pil_image.fromarray(x[:, :, 0].astype('uint8'), 'L')\n",
        "    else:\n",
        "        raise ValueError('Unsupported channel number: ', x.shape[2])"
      ],
      "execution_count": 0,
      "outputs": []
    },
    {
      "metadata": {
        "id": "a2KTR07yrOta",
        "colab_type": "code",
        "colab": {}
      },
      "cell_type": "code",
      "source": [
        "# get a random batch\n",
        "pictures, labels_and_logits = train_generator.next()\n",
        "logits = labels_and_logits"
      ],
      "execution_count": 0,
      "outputs": []
    },
    {
      "metadata": {
        "id": "gmoemUJGpkc6",
        "colab_type": "code",
        "outputId": "2f134a4c-e175-453a-f1b9-9aebe9eb75ef",
        "colab": {
          "base_uri": "https://localhost:8080/",
          "height": 35
        }
      },
      "cell_type": "code",
      "source": [
        "data_format = K.image_data_format()\n",
        "img = array_to_img(pictures[1],data_format,scale=True)\n",
        "fname = '{prefix}_{index}_{hash}.{format}'.format(prefix=\"a\",\n",
        "         index=0,hash=np.random.randint(1e4),format=\"jpg\")\n",
        "img.save(fname)\n",
        "fname"
      ],
      "execution_count": 0,
      "outputs": [
        {
          "output_type": "execute_result",
          "data": {
            "text/plain": [
              "'a_0_3274.jpg'"
            ]
          },
          "metadata": {
            "tags": []
          },
          "execution_count": 109
        }
      ]
    },
    {
      "metadata": {
        "id": "0dputOl5i2i_",
        "colab_type": "code",
        "outputId": "c33e34dd-e381-44b8-db76-ac4fd70e43b8",
        "colab": {
          "base_uri": "https://localhost:8080/",
          "height": 72
        }
      },
      "cell_type": "code",
      "source": [
        "logits[1]"
      ],
      "execution_count": 0,
      "outputs": [
        {
          "output_type": "execute_result",
          "data": {
            "text/plain": [
              "array([8.2813522e-06, 2.0952315e-05, 1.3733032e-06, 2.9429946e-06,\n",
              "       4.0880468e-06, 3.8475705e-06, 2.5562128e-06, 1.8837155e-06,\n",
              "       9.9995202e-01, 2.0743951e-06], dtype=float32)"
            ]
          },
          "metadata": {
            "tags": []
          },
          "execution_count": 128
        }
      ]
    },
    {
      "metadata": {
        "id": "9ZXe1_BPM4YD",
        "colab_type": "text"
      },
      "cell_type": "markdown",
      "source": [
        "test 1 ->5\n",
        "array([-3.1431096 , -2.3487477 , -1.8943748 ,  2.6037343 ,  4.023663  ,\n",
        "        5.818794  , -0.39959738, -1.4278562 , -2.1753347 , -1.8591523 ],\n",
        "      dtype=float32)\n",
        "      \n",
        " test 2 ->4\n",
        " array([-2.6974385 , -2.3446827 , -2.6954975 ,  0.74625957, 11.059016  ,\n",
        "       -0.957347  ,  2.9704058 , -2.173234  , -1.9789734 , -1.9399166 ],\n",
        "      dtype=float32)\n",
        "      \n",
        "  test3->9\n",
        "  array([ 2.682344 , -2.8602762,  4.663039 , -3.2968268, -2.1818123,\n",
        "       -2.8666215, -1.1493819, -3.0989358, -0.8861797,  8.244205 ],\n",
        "      dtype=float32)\n",
        "\n"
      ]
    },
    {
      "metadata": {
        "id": "tBIZjJ8h9wCC",
        "colab_type": "code",
        "outputId": "7516b255-48ca-45e5-93cb-3518a967ba27",
        "colab": {
          "base_uri": "https://localhost:8080/",
          "height": 35
        }
      },
      "cell_type": "code",
      "source": [
        "np.sum(logits[1])"
      ],
      "execution_count": 0,
      "outputs": [
        {
          "output_type": "execute_result",
          "data": {
            "text/plain": [
              "1.0"
            ]
          },
          "metadata": {
            "tags": []
          },
          "execution_count": 129
        }
      ]
    },
    {
      "metadata": {
        "id": "vb05arKswuGp",
        "colab_type": "code",
        "outputId": "69d30784-a5fc-49d4-fcb5-a4a77b358bd1",
        "colab": {
          "base_uri": "https://localhost:8080/",
          "height": 72
        }
      },
      "cell_type": "code",
      "source": [
        "softmax(logits[1]/3)"
      ],
      "execution_count": 0,
      "outputs": [
        {
          "output_type": "execute_result",
          "data": {
            "text/plain": [
              "array([0.09619475, 0.09619516, 0.09619454, 0.09619458, 0.09619462,\n",
              "       0.09619462, 0.09619457, 0.09619454, 0.13424808, 0.09619456],\n",
              "      dtype=float32)"
            ]
          },
          "metadata": {
            "tags": []
          },
          "execution_count": 130
        }
      ]
    },
    {
      "metadata": {
        "id": "t_D47qMhLNal",
        "colab_type": "code",
        "outputId": "5cded9ca-c515-4d07-bc79-a6b390227da7",
        "colab": {
          "base_uri": "https://localhost:8080/",
          "height": 35
        }
      },
      "cell_type": "code",
      "source": [
        "np.argmax(logits[1])#5"
      ],
      "execution_count": 0,
      "outputs": [
        {
          "output_type": "execute_result",
          "data": {
            "text/plain": [
              "8"
            ]
          },
          "metadata": {
            "tags": []
          },
          "execution_count": 131
        }
      ]
    },
    {
      "metadata": {
        "id": "RVKp0IEXrnWf",
        "colab_type": "code",
        "outputId": "3edd070f-ca84-4edb-c6fb-1252caf9bd48",
        "colab": {
          "base_uri": "https://localhost:8080/",
          "height": 334
        }
      },
      "cell_type": "code",
      "source": [
        "# logits for a random image\n",
        "v = logits[1]\n",
        "plt.figure(figsize=(10, 5));\n",
        "plt.plot(softmax(v), label='$T=1$', linewidth=2);\n",
        "plt.plot(softmax(v/2), label='$T=2$', linewidth=2);\n",
        "plt.plot(softmax(v/3), label='$T=3$', linewidth=2);\n",
        "plt.plot(softmax(v/7), label='$T=7$', linewidth=2);\n",
        "plt.legend();\n",
        "plt.xlabel('classes');\n",
        "plt.ylabel('probability');\n",
        "plt.xlim([0, 10]);\n",
        "plt.savefig('5.jpg')"
      ],
      "execution_count": 0,
      "outputs": [
        {
          "output_type": "display_data",
          "data": {
            "image/png": "[encoded data removed]",
            "text/plain": [
              "<Figure size 720x360 with 1 Axes>"
            ]
          },
          "metadata": {
            "tags": []
          }
        }
      ]
    },
    {
      "metadata": {
        "id": "K84GS3xjMcr0",
        "colab_type": "code",
        "colab": {}
      },
      "cell_type": "code",
      "source": [
        "!cp \"5.jpg\" \"/content/gdrive/My Drive/Colab Notebooks/classification/distillation_squeezenet/testt_graph3.jpg\"\n",
        "!cp \"a_0_9443.jpg\" \"/content/gdrive/My Drive/Colab Notebooks/classification/distillation_squeezenet/test_img3.jpg\""
      ],
      "execution_count": 0,
      "outputs": []
    },
    {
      "metadata": {
        "id": "e3gVVyhdrXwv",
        "colab_type": "code",
        "colab": {}
      },
      "cell_type": "code",
      "source": [
        "temperature = 3.0\n"
      ],
      "execution_count": 0,
      "outputs": []
    },
    {
      "metadata": {
        "id": "3vUBYI4m0JqE",
        "colab_type": "code",
        "outputId": "21e0605a-b3f1-4d76-bb82-498b0a27ee30",
        "colab": {
          "base_uri": "https://localhost:8080/",
          "height": 219
        }
      },
      "cell_type": "code",
      "source": [
        "#!wget https://raw.githubusercontent.com/Ujjwal-9/Knowledge-Distillation/master/squeezenet_weights.hdf5"
      ],
      "execution_count": 0,
      "outputs": [
        {
          "output_type": "stream",
          "text": [
            "--2019-02-25 06:45:18--  https://raw.githubusercontent.com/Ujjwal-9/Knowledge-Distillation/master/squeezenet_weights.hdf5\n",
            "Resolving raw.githubusercontent.com (raw.githubusercontent.com)... 151.101.0.133, 151.101.64.133, 151.101.128.133, ...\n",
            "Connecting to raw.githubusercontent.com (raw.githubusercontent.com)|151.101.0.133|:443... connected.\n",
            "HTTP request sent, awaiting response... 200 OK\n",
            "Length: 3034616 (2.9M) [application/octet-stream]\n",
            "Saving to: ‘squeezenet_weights.hdf5.1’\n",
            "\n",
            "squeezenet_weights. 100%[===================>]   2.89M  --.-KB/s    in 0.1s    \n",
            "\n",
            "2019-02-25 06:45:30 (29.2 MB/s) - ‘squeezenet_weights.hdf5.1’ saved [3034616/3034616]\n",
            "\n"
          ],
          "name": "stdout"
        }
      ]
    },
    {
      "metadata": {
        "id": "rjF8NQXprZxg",
        "colab_type": "code",
        "outputId": "749c7a8f-1d76-4852-f75e-bcdcd0360ac0",
        "colab": {
          "base_uri": "https://localhost:8080/",
          "height": 2754
        }
      },
      "cell_type": "code",
      "source": [
        "model = SqueezeNet(weight_decay=1e-4, image_size=299 )#1e-4\n",
        "model.load_weights('/content/gdrive/My Drive/Colab Notebooks/classification/squeezenet/squeezenet.h5', by_name=True)\n",
        "\n",
        "# remove softmax\n",
        "model.layers.pop()\n",
        "\n",
        "# usual probabilities (change to this if get logits already went thourugh softmax)\n",
        "logits = model.layers[-1].output\n",
        "probabilities = Activation('softmax')(logits)\n",
        "\n",
        "# softed probabilities\n",
        "#logits_T = Lambda(lambda x: x/temperature)(logits)#temperature\n",
        "#probabilities_T = Activation('softmax')(logits_T)\n",
        "\n",
        "#output = concatenate([probabilities, probabilities_T])\n",
        "model = Model(model.input, probabilities)#output\n",
        "# now model outputs 512 dimensional vectors\n",
        "\n",
        "model.summary()"
      ],
      "execution_count": 0,
      "outputs": [
        {
          "output_type": "stream",
          "text": [
            "__________________________________________________________________________________________________\n",
            "Layer (type)                    Output Shape         Param #     Connected to                     \n",
            "==================================================================================================\n",
            "input_13 (InputLayer)           (None, 299, 299, 3)  0                                            \n",
            "__________________________________________________________________________________________________\n",
            "conv1 (Conv2D)                  (None, 149, 149, 64) 1792        input_13[0][0]                   \n",
            "__________________________________________________________________________________________________\n",
            "activation_336 (Activation)     (None, 149, 149, 64) 0           conv1[0][0]                      \n",
            "__________________________________________________________________________________________________\n",
            "max_pooling2d_37 (MaxPooling2D) (None, 74, 74, 64)   0           activation_336[0][0]             \n",
            "__________________________________________________________________________________________________\n",
            "fire2/squeeze (Conv2D)          (None, 74, 74, 16)   1040        max_pooling2d_37[0][0]           \n",
            "__________________________________________________________________________________________________\n",
            "activation_337 (Activation)     (None, 74, 74, 16)   0           fire2/squeeze[0][0]              \n",
            "__________________________________________________________________________________________________\n",
            "fire2/expand1x1 (Conv2D)        (None, 74, 74, 64)   1088        activation_337[0][0]             \n",
            "__________________________________________________________________________________________________\n",
            "fire2/expand3x3 (Conv2D)        (None, 74, 74, 64)   9280        activation_337[0][0]             \n",
            "__________________________________________________________________________________________________\n",
            "activation_338 (Activation)     (None, 74, 74, 64)   0           fire2/expand1x1[0][0]            \n",
            "__________________________________________________________________________________________________\n",
            "activation_339 (Activation)     (None, 74, 74, 64)   0           fire2/expand3x3[0][0]            \n",
            "__________________________________________________________________________________________________\n",
            "concatenate_100 (Concatenate)   (None, 74, 74, 128)  0           activation_338[0][0]             \n",
            "                                                                 activation_339[0][0]             \n",
            "__________________________________________________________________________________________________\n",
            "fire3/squeeze (Conv2D)          (None, 74, 74, 16)   2064        concatenate_100[0][0]            \n",
            "__________________________________________________________________________________________________\n",
            "activation_340 (Activation)     (None, 74, 74, 16)   0           fire3/squeeze[0][0]              \n",
            "__________________________________________________________________________________________________\n",
            "fire3/expand1x1 (Conv2D)        (None, 74, 74, 64)   1088        activation_340[0][0]             \n",
            "__________________________________________________________________________________________________\n",
            "fire3/expand3x3 (Conv2D)        (None, 74, 74, 64)   9280        activation_340[0][0]             \n",
            "__________________________________________________________________________________________________\n",
            "activation_341 (Activation)     (None, 74, 74, 64)   0           fire3/expand1x1[0][0]            \n",
            "__________________________________________________________________________________________________\n",
            "activation_342 (Activation)     (None, 74, 74, 64)   0           fire3/expand3x3[0][0]            \n",
            "__________________________________________________________________________________________________\n",
            "concatenate_101 (Concatenate)   (None, 74, 74, 128)  0           activation_341[0][0]             \n",
            "                                                                 activation_342[0][0]             \n",
            "__________________________________________________________________________________________________\n",
            "max_pooling2d_38 (MaxPooling2D) (None, 36, 36, 128)  0           concatenate_101[0][0]            \n",
            "__________________________________________________________________________________________________\n",
            "fire4/squeeze (Conv2D)          (None, 36, 36, 32)   4128        max_pooling2d_38[0][0]           \n",
            "__________________________________________________________________________________________________\n",
            "activation_343 (Activation)     (None, 36, 36, 32)   0           fire4/squeeze[0][0]              \n",
            "__________________________________________________________________________________________________\n",
            "fire4/expand1x1 (Conv2D)        (None, 36, 36, 128)  4224        activation_343[0][0]             \n",
            "__________________________________________________________________________________________________\n",
            "fire4/expand3x3 (Conv2D)        (None, 36, 36, 128)  36992       activation_343[0][0]             \n",
            "__________________________________________________________________________________________________\n",
            "activation_344 (Activation)     (None, 36, 36, 128)  0           fire4/expand1x1[0][0]            \n",
            "__________________________________________________________________________________________________\n",
            "activation_345 (Activation)     (None, 36, 36, 128)  0           fire4/expand3x3[0][0]            \n",
            "__________________________________________________________________________________________________\n",
            "concatenate_102 (Concatenate)   (None, 36, 36, 256)  0           activation_344[0][0]             \n",
            "                                                                 activation_345[0][0]             \n",
            "__________________________________________________________________________________________________\n",
            "fire5/squeeze (Conv2D)          (None, 36, 36, 32)   8224        concatenate_102[0][0]            \n",
            "__________________________________________________________________________________________________\n",
            "activation_346 (Activation)     (None, 36, 36, 32)   0           fire5/squeeze[0][0]              \n",
            "__________________________________________________________________________________________________\n",
            "fire5/expand1x1 (Conv2D)        (None, 36, 36, 128)  4224        activation_346[0][0]             \n",
            "__________________________________________________________________________________________________\n",
            "fire5/expand3x3 (Conv2D)        (None, 36, 36, 128)  36992       activation_346[0][0]             \n",
            "__________________________________________________________________________________________________\n",
            "activation_347 (Activation)     (None, 36, 36, 128)  0           fire5/expand1x1[0][0]            \n",
            "__________________________________________________________________________________________________\n",
            "activation_348 (Activation)     (None, 36, 36, 128)  0           fire5/expand3x3[0][0]            \n",
            "__________________________________________________________________________________________________\n",
            "concatenate_103 (Concatenate)   (None, 36, 36, 256)  0           activation_347[0][0]             \n",
            "                                                                 activation_348[0][0]             \n",
            "__________________________________________________________________________________________________\n",
            "max_pooling2d_39 (MaxPooling2D) (None, 17, 17, 256)  0           concatenate_103[0][0]            \n",
            "__________________________________________________________________________________________________\n",
            "fire6/squeeze (Conv2D)          (None, 17, 17, 48)   12336       max_pooling2d_39[0][0]           \n",
            "__________________________________________________________________________________________________\n",
            "activation_349 (Activation)     (None, 17, 17, 48)   0           fire6/squeeze[0][0]              \n",
            "__________________________________________________________________________________________________\n",
            "fire6/expand1x1 (Conv2D)        (None, 17, 17, 192)  9408        activation_349[0][0]             \n",
            "__________________________________________________________________________________________________\n",
            "fire6/expand3x3 (Conv2D)        (None, 17, 17, 192)  83136       activation_349[0][0]             \n",
            "__________________________________________________________________________________________________\n",
            "activation_350 (Activation)     (None, 17, 17, 192)  0           fire6/expand1x1[0][0]            \n",
            "__________________________________________________________________________________________________\n",
            "activation_351 (Activation)     (None, 17, 17, 192)  0           fire6/expand3x3[0][0]            \n",
            "__________________________________________________________________________________________________\n",
            "concatenate_104 (Concatenate)   (None, 17, 17, 384)  0           activation_350[0][0]             \n",
            "                                                                 activation_351[0][0]             \n",
            "__________________________________________________________________________________________________\n",
            "fire7/squeeze (Conv2D)          (None, 17, 17, 48)   18480       concatenate_104[0][0]            \n",
            "__________________________________________________________________________________________________\n",
            "activation_352 (Activation)     (None, 17, 17, 48)   0           fire7/squeeze[0][0]              \n",
            "__________________________________________________________________________________________________\n",
            "fire7/expand1x1 (Conv2D)        (None, 17, 17, 192)  9408        activation_352[0][0]             \n",
            "__________________________________________________________________________________________________\n",
            "fire7/expand3x3 (Conv2D)        (None, 17, 17, 192)  83136       activation_352[0][0]             \n",
            "__________________________________________________________________________________________________\n",
            "activation_353 (Activation)     (None, 17, 17, 192)  0           fire7/expand1x1[0][0]            \n",
            "__________________________________________________________________________________________________\n",
            "activation_354 (Activation)     (None, 17, 17, 192)  0           fire7/expand3x3[0][0]            \n",
            "__________________________________________________________________________________________________\n",
            "concatenate_105 (Concatenate)   (None, 17, 17, 384)  0           activation_353[0][0]             \n",
            "                                                                 activation_354[0][0]             \n",
            "__________________________________________________________________________________________________\n",
            "fire8/squeeze (Conv2D)          (None, 17, 17, 64)   24640       concatenate_105[0][0]            \n",
            "__________________________________________________________________________________________________\n",
            "activation_355 (Activation)     (None, 17, 17, 64)   0           fire8/squeeze[0][0]              \n",
            "__________________________________________________________________________________________________\n",
            "fire8/expand1x1 (Conv2D)        (None, 17, 17, 256)  16640       activation_355[0][0]             \n",
            "__________________________________________________________________________________________________\n",
            "fire8/expand3x3 (Conv2D)        (None, 17, 17, 256)  147712      activation_355[0][0]             \n",
            "__________________________________________________________________________________________________\n",
            "activation_356 (Activation)     (None, 17, 17, 256)  0           fire8/expand1x1[0][0]            \n",
            "__________________________________________________________________________________________________\n",
            "activation_357 (Activation)     (None, 17, 17, 256)  0           fire8/expand3x3[0][0]            \n",
            "__________________________________________________________________________________________________\n",
            "concatenate_106 (Concatenate)   (None, 17, 17, 512)  0           activation_356[0][0]             \n",
            "                                                                 activation_357[0][0]             \n",
            "__________________________________________________________________________________________________\n",
            "fire9/squeeze (Conv2D)          (None, 17, 17, 64)   32832       concatenate_106[0][0]            \n",
            "__________________________________________________________________________________________________\n",
            "activation_358 (Activation)     (None, 17, 17, 64)   0           fire9/squeeze[0][0]              \n",
            "__________________________________________________________________________________________________\n",
            "fire9/expand1x1 (Conv2D)        (None, 17, 17, 256)  16640       activation_358[0][0]             \n",
            "__________________________________________________________________________________________________\n",
            "fire9/expand3x3 (Conv2D)        (None, 17, 17, 256)  147712      activation_358[0][0]             \n",
            "__________________________________________________________________________________________________\n",
            "activation_359 (Activation)     (None, 17, 17, 256)  0           fire9/expand1x1[0][0]            \n",
            "__________________________________________________________________________________________________\n",
            "activation_360 (Activation)     (None, 17, 17, 256)  0           fire9/expand3x3[0][0]            \n",
            "__________________________________________________________________________________________________\n",
            "concatenate_107 (Concatenate)   (None, 17, 17, 512)  0           activation_359[0][0]             \n",
            "                                                                 activation_360[0][0]             \n",
            "__________________________________________________________________________________________________\n",
            "dropout_13 (Dropout)            (None, 17, 17, 512)  0           concatenate_107[0][0]            \n",
            "__________________________________________________________________________________________________\n",
            "conv10 (Conv2D)                 (None, 17, 17, 10)   5130        dropout_13[0][0]                 \n",
            "__________________________________________________________________________________________________\n",
            "activation_361 (Activation)     (None, 17, 17, 10)   0           conv10[0][0]                     \n",
            "__________________________________________________________________________________________________\n",
            "global_average_pooling2d_13 (Gl (None, 10)           0           activation_361[0][0]             \n",
            "__________________________________________________________________________________________________\n",
            "activation_363 (Activation)     (None, 10)           0           global_average_pooling2d_13[0][0]\n",
            "==================================================================================================\n",
            "Total params: 727,626\n",
            "Trainable params: 5,130\n",
            "Non-trainable params: 722,496\n",
            "__________________________________________________________________________________________________\n"
          ],
          "name": "stdout"
        }
      ]
    },
    {
      "metadata": {
        "id": "rcqogBAwro6M",
        "colab_type": "code",
        "colab": {}
      },
      "cell_type": "code",
      "source": [
        "#lambda_const = 0.2\n",
        "\n",
        "model.compile(\n",
        "    optimizer=optimizers.SGD(lr=1e-2, momentum=0.9, nesterov=True), \n",
        "    loss='categorical_crossentropy', \n",
        "    metrics=['accuracy', 'top_k_categorical_accuracy']\n",
        ")"
      ],
      "execution_count": 0,
      "outputs": []
    },
    {
      "metadata": {
        "id": "zB4upUwsrp1B",
        "colab_type": "code",
        "outputId": "556400bb-7dd0-4544-8436-018dcde902b1",
        "colab": {
          "base_uri": "https://localhost:8080/",
          "height": 643
        }
      },
      "cell_type": "code",
      "source": [
        "\n",
        "model.fit_generator(\n",
        "    train_generator, \n",
        "    steps_per_epoch=5000//50, epochs=30, verbose=1,\n",
        "    callbacks=[\n",
        "        EarlyStopping(monitor='val_acc', patience=10, min_delta=0.01),\n",
        "        ReduceLROnPlateau(monitor='val_acc', factor=0.1, patience=2, epsilon=0.007)\n",
        "    ],\n",
        "    validation_data=val_generator, \n",
        "    validation_steps=3000//50, \n",
        "    workers=4\n",
        ")"
      ],
      "execution_count": 0,
      "outputs": [
        {
          "output_type": "stream",
          "text": [
            "/usr/local/lib/python3.6/dist-packages/keras/callbacks.py:1065: UserWarning: `epsilon` argument is deprecated and will be removed, use `min_delta` instead.\n",
            "  warnings.warn('`epsilon` argument is deprecated and '\n"
          ],
          "name": "stderr"
        },
        {
          "output_type": "stream",
          "text": [
            "Epoch 1/30\n",
            "100/100 [==============================] - 67s 674ms/step - loss: 0.3976 - acc: 0.8906 - top_k_categorical_accuracy: 0.9970 - val_loss: 0.6350 - val_acc: 0.8287 - val_top_k_categorical_accuracy: 0.9923\n",
            "Epoch 2/30\n",
            "100/100 [==============================] - 62s 622ms/step - loss: 0.3930 - acc: 0.8924 - top_k_categorical_accuracy: 0.9976 - val_loss: 0.5731 - val_acc: 0.8390 - val_top_k_categorical_accuracy: 0.9930\n",
            "Epoch 3/30\n",
            "100/100 [==============================] - 61s 608ms/step - loss: 0.3872 - acc: 0.8930 - top_k_categorical_accuracy: 0.9976 - val_loss: 0.5593 - val_acc: 0.8417 - val_top_k_categorical_accuracy: 0.9933\n",
            "Epoch 4/30\n",
            "100/100 [==============================] - 60s 599ms/step - loss: 0.3694 - acc: 0.8984 - top_k_categorical_accuracy: 0.9974 - val_loss: 0.5991 - val_acc: 0.8333 - val_top_k_categorical_accuracy: 0.9940\n",
            "Epoch 5/30\n",
            "100/100 [==============================] - 59s 587ms/step - loss: 0.3483 - acc: 0.9078 - top_k_categorical_accuracy: 0.9980 - val_loss: 0.5368 - val_acc: 0.8497 - val_top_k_categorical_accuracy: 0.9940\n",
            "Epoch 6/30\n",
            "100/100 [==============================] - 60s 596ms/step - loss: 0.3204 - acc: 0.9226 - top_k_categorical_accuracy: 0.9982 - val_loss: 0.5362 - val_acc: 0.8493 - val_top_k_categorical_accuracy: 0.9953\n",
            "Epoch 7/30\n",
            "100/100 [==============================] - 76s 757ms/step - loss: 0.3220 - acc: 0.9202 - top_k_categorical_accuracy: 0.9974 - val_loss: 0.5372 - val_acc: 0.8513 - val_top_k_categorical_accuracy: 0.9943\n",
            "Epoch 8/30\n",
            "100/100 [==============================] - 93s 930ms/step - loss: 0.3180 - acc: 0.9220 - top_k_categorical_accuracy: 0.9984 - val_loss: 0.5323 - val_acc: 0.8527 - val_top_k_categorical_accuracy: 0.9950\n",
            "Epoch 9/30\n",
            "100/100 [==============================] - 71s 711ms/step - loss: 0.3160 - acc: 0.9250 - top_k_categorical_accuracy: 0.9984 - val_loss: 0.5313 - val_acc: 0.8517 - val_top_k_categorical_accuracy: 0.9950\n",
            "Epoch 10/30\n",
            "100/100 [==============================] - 78s 782ms/step - loss: 0.3131 - acc: 0.9260 - top_k_categorical_accuracy: 0.9982 - val_loss: 0.5312 - val_acc: 0.8513 - val_top_k_categorical_accuracy: 0.9950\n",
            "Epoch 11/30\n",
            "100/100 [==============================] - 61s 606ms/step - loss: 0.3122 - acc: 0.9246 - top_k_categorical_accuracy: 0.9988 - val_loss: 0.5313 - val_acc: 0.8513 - val_top_k_categorical_accuracy: 0.9950\n",
            "Epoch 12/30\n",
            "100/100 [==============================] - 61s 605ms/step - loss: 0.3052 - acc: 0.9280 - top_k_categorical_accuracy: 0.9988 - val_loss: 0.5314 - val_acc: 0.8513 - val_top_k_categorical_accuracy: 0.9950\n",
            "Epoch 13/30\n",
            "100/100 [==============================] - 60s 602ms/step - loss: 0.3187 - acc: 0.9190 - top_k_categorical_accuracy: 0.9986 - val_loss: 0.5314 - val_acc: 0.8513 - val_top_k_categorical_accuracy: 0.9950\n",
            "Epoch 14/30\n",
            "100/100 [==============================] - 61s 605ms/step - loss: 0.3167 - acc: 0.9222 - top_k_categorical_accuracy: 0.9986 - val_loss: 0.5314 - val_acc: 0.8513 - val_top_k_categorical_accuracy: 0.9950\n",
            "Epoch 15/30\n",
            "100/100 [==============================] - 61s 606ms/step - loss: 0.3077 - acc: 0.9220 - top_k_categorical_accuracy: 0.9986 - val_loss: 0.5314 - val_acc: 0.8513 - val_top_k_categorical_accuracy: 0.9950\n"
          ],
          "name": "stdout"
        },
        {
          "output_type": "execute_result",
          "data": {
            "text/plain": [
              "<keras.callbacks.History at 0x7f6ed19b3978>"
            ]
          },
          "metadata": {
            "tags": []
          },
          "execution_count": 135
        }
      ]
    },
    {
      "metadata": {
        "id": "Crl18ZKzruxj",
        "colab_type": "code",
        "outputId": "638f983a-c7be-41a1-850c-be4db04a66e5",
        "colab": {
          "base_uri": "https://localhost:8080/",
          "height": 282
        }
      },
      "cell_type": "code",
      "source": [
        "plt.plot(model.history.history['loss'], label='train');\n",
        "plt.plot(model.history.history['val_loss'], label='val');\n",
        "plt.legend();\n",
        "plt.xlabel('epoch');\n",
        "plt.ylabel('logloss');\n",
        "plt.savefig('squeezenet_distill_loss.jpg')"
      ],
      "execution_count": 0,
      "outputs": [
        {
          "output_type": "display_data",
          "data": {
            "image/png": "[encoded data removed]",
            "text/plain": [
              "<Figure size 432x288 with 1 Axes>"
            ]
          },
          "metadata": {
            "tags": []
          }
        }
      ]
    },
    {
      "metadata": {
        "id": "amdTsG3Erwp8",
        "colab_type": "code",
        "outputId": "f6e2c571-24f4-4025-ceac-afa37b569342",
        "colab": {
          "base_uri": "https://localhost:8080/",
          "height": 279
        }
      },
      "cell_type": "code",
      "source": [
        "plt.plot(model.history.history['acc'], label='train');\n",
        "plt.plot(model.history.history['val_acc'], label='val');\n",
        "plt.legend();\n",
        "plt.xlabel('epoch');\n",
        "plt.ylabel('accuracy');\n",
        "plt.savefig('squeezenet_distill_acc.jpg')"
      ],
      "execution_count": 0,
      "outputs": [
        {
          "output_type": "display_data",
          "data": {
            "image/png": "[encoded data removed]",
            "text/plain": [
              "<Figure size 432x288 with 1 Axes>"
            ]
          },
          "metadata": {
            "tags": []
          }
        }
      ]
    },
    {
      "metadata": {
        "id": "agAZpZVnrxhF",
        "colab_type": "code",
        "outputId": "9759cdf5-2e49-408a-f693-b78d088e7d46",
        "colab": {
          "base_uri": "https://localhost:8080/",
          "height": 280
        }
      },
      "cell_type": "code",
      "source": [
        "plt.plot(model.history.history['top_k_categorical_accuracy'], label='train');\n",
        "plt.plot(model.history.history['val_top_k_categorical_accuracy'], label='val');\n",
        "plt.legend();\n",
        "plt.xlabel('epoch');\n",
        "plt.ylabel('top5_accuracy');\n",
        "plt.savefig('squeezenet_distill_top5_acc.jpg')"
      ],
      "execution_count": 0,
      "outputs": [
        {
          "output_type": "display_data",
          "data": {
            "image/png": "[encoded data removed]",
            "text/plain": [
              "<Figure size 432x288 with 1 Axes>"
            ]
          },
          "metadata": {
            "tags": []
          }
        }
      ]
    },
    {
      "metadata": {
        "id": "syvuHWihr1MJ",
        "colab_type": "code",
        "outputId": "7c56e5af-b507-44c1-a81a-3e8b17710901",
        "colab": {
          "base_uri": "https://localhost:8080/",
          "height": 35
        }
      },
      "cell_type": "code",
      "source": [
        "val_generator_no_shuffle = data_generator.flow_from_directory(\n",
        "    data_dir + 'val', val_logits,\n",
        "    target_size=(299, 299),\n",
        "    batch_size=50, shuffle=False\n",
        ")"
      ],
      "execution_count": 0,
      "outputs": [
        {
          "output_type": "stream",
          "text": [
            "Found 3000 images belonging to 10 classes.\n"
          ],
          "name": "stdout"
        }
      ]
    },
    {
      "metadata": {
        "id": "gq7KjN4Lr4sS",
        "colab_type": "code",
        "outputId": "82923b3f-9013-4607-bc78-1c1fdf1701df",
        "colab": {
          "base_uri": "https://localhost:8080/",
          "height": 35
        }
      },
      "cell_type": "code",
      "source": [
        "model.evaluate_generator(val_generator_no_shuffle, 80)"
      ],
      "execution_count": 0,
      "outputs": [
        {
          "output_type": "execute_result",
          "data": {
            "text/plain": [
              "[0.5177001601085067, 0.8570000000298024, 0.9955000020563602]"
            ]
          },
          "metadata": {
            "tags": []
          },
          "execution_count": 140
        }
      ]
    },
    {
      "metadata": {
        "id": "BHA8OzrOxGLa",
        "colab_type": "code",
        "colab": {}
      },
      "cell_type": "code",
      "source": [
        "model.save(\"squeezenet_distill.h5\")"
      ],
      "execution_count": 0,
      "outputs": []
    },
    {
      "metadata": {
        "id": "xf5cMN2uF-2n",
        "colab_type": "code",
        "outputId": "48563765-f6f6-43d4-aa24-1cb1d17685e4",
        "colab": {
          "base_uri": "https://localhost:8080/",
          "height": 35
        }
      },
      "cell_type": "code",
      "source": [
        "data_train_generator = keras.preprocessing.image.ImageDataGenerator(\n",
        "    data_format='channels_last',\n",
        "    preprocessing_function=preprocess_input\n",
        ")\n",
        "\n",
        "test_generator = data_train_generator.flow_from_directory(\n",
        "    data_dir + 'test', shuffle=False,\n",
        "    target_size=(299, 299),\n",
        "    batch_size=50\n",
        ")"
      ],
      "execution_count": 0,
      "outputs": [
        {
          "output_type": "stream",
          "text": [
            "Found 5000 images belonging to 10 classes.\n"
          ],
          "name": "stdout"
        }
      ]
    },
    {
      "metadata": {
        "id": "efPVvWiILpp-",
        "colab_type": "code",
        "outputId": "fcdfce11-b957-45b7-f776-a190ee2ab1ef",
        "colab": {
          "base_uri": "https://localhost:8080/",
          "height": 35
        }
      },
      "cell_type": "code",
      "source": [
        "from keras.models import Model,load_model\n",
        "#vmodel = SqueezeNet(weight_decay=1e-4, image_size=299 )#1e-4\n",
        "vmodel = load_model('/content/gdrive/My Drive/Colab Notebooks/classification/squeezenet/squeezenet.h5')\n",
        "vmodel.evaluate_generator(test_generator, 80)"
      ],
      "execution_count": 0,
      "outputs": [
        {
          "output_type": "execute_result",
          "data": {
            "text/plain": [
              "[0.54110177308321, 0.830249996483326, 0.9905000023543835]"
            ]
          },
          "metadata": {
            "tags": []
          },
          "execution_count": 143
        }
      ]
    },
    {
      "metadata": {
        "id": "jfZ3rn7x2l60",
        "colab_type": "code",
        "outputId": "5c8e4757-7dbd-424d-b0b2-db4f82bb024b",
        "colab": {
          "base_uri": "https://localhost:8080/",
          "height": 35
        }
      },
      "cell_type": "code",
      "source": [
        "model.evaluate_generator(test_generator, 80)"
      ],
      "execution_count": 0,
      "outputs": [
        {
          "output_type": "execute_result",
          "data": {
            "text/plain": [
              "[0.4824540842324495, 0.8440000005066395, 0.9922500029206276]"
            ]
          },
          "metadata": {
            "tags": []
          },
          "execution_count": 144
        }
      ]
    },
    {
      "metadata": {
        "id": "yHMfccSIwvaM",
        "colab_type": "code",
        "outputId": "5c13a198-e892-4fa5-adbf-ce4505b54005",
        "colab": {
          "base_uri": "https://localhost:8080/",
          "height": 35
        }
      },
      "cell_type": "code",
      "source": [
        "STEP_SIZE_TEST=test_generator.n//test_generator.batch_size\n",
        "test_generator.reset()\n",
        "pred=model.predict_generator(test_generator,verbose=1,steps=STEP_SIZE_TEST)"
      ],
      "execution_count": 0,
      "outputs": [
        {
          "output_type": "stream",
          "text": [
            "100/100 [==============================] - 23s 227ms/step\n"
          ],
          "name": "stdout"
        }
      ]
    },
    {
      "metadata": {
        "id": "cKKZXkWuw12i",
        "colab_type": "code",
        "colab": {}
      },
      "cell_type": "code",
      "source": [
        "predicted_class_indices=np.argmax(pred,axis=1)"
      ],
      "execution_count": 0,
      "outputs": []
    },
    {
      "metadata": {
        "id": "dthmQZAIw3Nw",
        "colab_type": "code",
        "colab": {}
      },
      "cell_type": "code",
      "source": [
        "labels = (train_generator.class_indices)\n",
        "labels = dict((v,k) for k,v in labels.items())\n",
        "#lbl = [ \"airplane\", \"bird\", \"car\", \"cat\", \"deer\", \"dog\", \"horse\", \"monkey\" , \"ship\", \"truck\" ]  \n",
        "predictions = [labels[k] for k in predicted_class_indices]"
      ],
      "execution_count": 0,
      "outputs": []
    },
    {
      "metadata": {
        "id": "H8PbeAoew4xl",
        "colab_type": "code",
        "colab": {}
      },
      "cell_type": "code",
      "source": [
        "import pandas as pd \n",
        "filenames=test_generator.filenames\n",
        "results=pd.DataFrame({\"Filename\":filenames,\n",
        "                      \"Predictions\":predictions})\n",
        "results.to_csv(\"squeezenet_distill_results.csv\",index=False)"
      ],
      "execution_count": 0,
      "outputs": []
    },
    {
      "metadata": {
        "id": "7t7WNRzzw6Et",
        "colab_type": "code",
        "colab": {}
      },
      "cell_type": "code",
      "source": [
        "!cp \"squeezenet_distill.h5\" \"/content/gdrive/My Drive/Colab Notebooks/classification/distillation_squeezenet/squeezenet.h5\"\n",
        "!cp \"squeezenet_distill_results.csv\" \"/content/gdrive/My Drive/Colab Notebooks/classification/distillation_squeezenet/squeezenet_results.csv\"\n",
        "!cp \"squeezenet_distill_acc.jpg\" \"/content/gdrive/My Drive/Colab Notebooks/classification/distillation_squeezenet/squeezenet_acc.jpg\"\n",
        "!cp \"squeezenet_distill_loss.jpg\" \"/content/gdrive/My Drive/Colab Notebooks/classification/distillation_squeezenet/squeezenet_loss.jpg\"\n",
        "!cp \"squeezenet_distill_top5_acc.jpg\" \"/content/gdrive/My Drive/Colab Notebooks/classification/distillation_squeezenet/squeezenet_top5_acc.jpg\""
      ],
      "execution_count": 0,
      "outputs": []
    }
  ]
}