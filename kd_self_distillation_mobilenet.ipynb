{
  "nbformat": 4,
  "nbformat_minor": 0,
  "metadata": {
    "colab": {
      "name": "kd_self_distillation_mobilenet.ipynb",
      "version": "0.3.2",
      "provenance": []
    },
    "kernelspec": {
      "name": "python3",
      "display_name": "Python 3"
    },
    "accelerator": "GPU"
  },
  "cells": [
    {
      "metadata": {
        "id": "fbs7222WvMVE",
        "colab_type": "text"
      },
      "cell_type": "markdown",
      "source": [
        "add image_preprocessing_ver_3.py"
      ]
    },
    {
      "metadata": {
        "id": "TyQAzOtMsk9j",
        "colab_type": "code",
        "outputId": "a8f0f948-4bc3-4bc6-eda2-016ec8338b45",
        "colab": {
          "base_uri": "https://localhost:8080/",
          "height": 35
        }
      },
      "cell_type": "code",
      "source": [
        "import keras\n",
        "from keras.applications.mobilenetv2 import MobileNetV2\n",
        "from keras.models import Model\n",
        "from keras.layers import Activation, GlobalAveragePooling2D, Dropout, Dense, Input\n",
        "\n",
        "\n",
        "def get_mobilenet(input_size, alpha, weight_decay, dropout):\n",
        "    input_shape = (input_size, input_size, 3)\n",
        "    base_model = MobileNetV2(\n",
        "        include_top=False, weights='imagenet', \n",
        "        input_shape=input_shape, alpha=alpha\n",
        "    )\n",
        "    x = base_model.output\n",
        "    x = GlobalAveragePooling2D()(x)\n",
        "    x = Dropout(dropout)(x)\n",
        "    logits = Dense(10, kernel_regularizer=keras.regularizers.l2(weight_decay))(x)\n",
        "    probabilities = Activation('softmax')(logits)\n",
        "    model = Model(base_model.input, probabilities)\n",
        "    \n",
        "    for layer in model.layers[:-2]:\n",
        "        layer.trainable = False\n",
        "    \n",
        "    return model"
      ],
      "execution_count": 0,
      "outputs": [
        {
          "output_type": "stream",
          "text": [
            "Using TensorFlow backend.\n"
          ],
          "name": "stderr"
        }
      ]
    },
    {
      "metadata": {
        "id": "pNjijkYAqkSA",
        "colab_type": "code",
        "colab": {}
      },
      "cell_type": "code",
      "source": [
        "import numpy as np\n",
        "\n",
        "import keras\n",
        "from keras import optimizers\n",
        "from keras.callbacks import ReduceLROnPlateau, EarlyStopping\n",
        "\n",
        "# use non standard flow_from_directory\n",
        "from image_preprocessing_ver3 import ImageDataGenerator\n",
        "# it outputs y_batch that contains logits(no one hot)\n",
        "# logits came from xception\n",
        "\n",
        "from keras.models import Model\n",
        "from keras.layers import Lambda, concatenate, Activation\n",
        "from keras.losses import categorical_crossentropy as logloss\n",
        "from keras.metrics import categorical_accuracy, top_k_categorical_accuracy\n",
        "from keras import backend as K\n",
        "from keras.applications.mobilenetv2 import MobileNetV2,preprocess_input\n",
        "\n",
        "\n",
        "\n",
        "import matplotlib.pyplot as plt\n",
        "%matplotlib inline"
      ],
      "execution_count": 0,
      "outputs": []
    },
    {
      "metadata": {
        "id": "AjGdGJq1q9nV",
        "colab_type": "code",
        "colab": {}
      },
      "cell_type": "code",
      "source": [
        "data_dir = 'img/'"
      ],
      "execution_count": 0,
      "outputs": []
    },
    {
      "metadata": {
        "id": "e6cxfCU-rDMU",
        "colab_type": "code",
        "colab": {}
      },
      "cell_type": "code",
      "source": [
        "train_logits = np.load('train_logits_temp1.npy')[()]\n",
        "val_logits = np.load('val_logits_temp1.npy')[()]"
      ],
      "execution_count": 0,
      "outputs": []
    },
    {
      "metadata": {
        "id": "c33VZssTrJQX",
        "colab_type": "code",
        "outputId": "c2c4d476-f7b2-4aa2-fa40-d3450dff1364",
        "colab": {
          "base_uri": "https://localhost:8080/",
          "height": 54
        }
      },
      "cell_type": "code",
      "source": [
        "data_generator = ImageDataGenerator(\n",
        "    data_format='channels_last',\n",
        "    preprocessing_function=preprocess_input\n",
        ")\n",
        "\n",
        "# note: i'm also passing dicts of logits\n",
        "train_generator = data_generator.flow_from_directory(\n",
        "    data_dir + 'train', train_logits,\n",
        "    target_size=(224, 224),\n",
        "    batch_size=50\n",
        ")\n",
        "\n",
        "val_generator = data_generator.flow_from_directory(\n",
        "    data_dir + 'val', val_logits,\n",
        "    target_size=(224, 224),\n",
        "    batch_size=50\n",
        ")\n"
      ],
      "execution_count": 0,
      "outputs": [
        {
          "output_type": "stream",
          "text": [
            "Found 5000 images belonging to 10 classes.\n",
            "Found 3000 images belonging to 10 classes.\n"
          ],
          "name": "stdout"
        }
      ]
    },
    {
      "metadata": {
        "id": "Cvo1sOz8rLn8",
        "colab_type": "code",
        "colab": {}
      },
      "cell_type": "code",
      "source": [
        "def softmax(x):\n",
        "    return np.exp(x)/np.exp(x).sum()"
      ],
      "execution_count": 0,
      "outputs": []
    },
    {
      "metadata": {
        "id": "cy7nWaldp_Bn",
        "colab_type": "code",
        "colab": {}
      },
      "cell_type": "code",
      "source": [
        "from PIL import Image as pil_image\n",
        "def array_to_img(x, data_format=None, scale=True):\n",
        "    \"\"\"Converts a 3D Numpy array to a PIL Image instance.\n",
        "    # Arguments\n",
        "        x: Input Numpy array.\n",
        "        data_format: Image data format.\n",
        "        scale: Whether to rescale image values\n",
        "            to be within [0, 255].\n",
        "    # Returns\n",
        "        A PIL Image instance.\n",
        "    # Raises\n",
        "        ImportError: if PIL is not available.\n",
        "        ValueError: if invalid `x` or `data_format` is passed.\n",
        "    \"\"\"\n",
        "    if pil_image is None:\n",
        "        raise ImportError('Could not import PIL.Image. '\n",
        "                          'The use of `array_to_img` requires PIL.')\n",
        "    x = np.asarray(x, dtype=K.floatx())\n",
        "    if x.ndim != 3:\n",
        "        raise ValueError('Expected image array to have rank 3 (single image). '\n",
        "                         'Got array with shape:', x.shape)\n",
        "\n",
        "    if data_format is None:\n",
        "        data_format = K.image_data_format()\n",
        "    if data_format not in {'channels_first', 'channels_last'}:\n",
        "        raise ValueError('Invalid data_format:', data_format)\n",
        "\n",
        "    # Original Numpy array x has format (height, width, channel)\n",
        "    # or (channel, height, width)\n",
        "    # but target PIL image has format (width, height, channel)\n",
        "    if data_format == 'channels_first':\n",
        "        x = x.transpose(1, 2, 0)\n",
        "    if scale:\n",
        "        x = x + max(-np.min(x), 0)\n",
        "        x_max = np.max(x)\n",
        "        if x_max != 0:\n",
        "            x /= x_max\n",
        "        x *= 255\n",
        "    if x.shape[2] == 3:\n",
        "        # RGB\n",
        "        return pil_image.fromarray(x.astype('uint8'), 'RGB')\n",
        "    elif x.shape[2] == 1:\n",
        "        # grayscale\n",
        "        return pil_image.fromarray(x[:, :, 0].astype('uint8'), 'L')\n",
        "    else:\n",
        "        raise ValueError('Unsupported channel number: ', x.shape[2])"
      ],
      "execution_count": 0,
      "outputs": []
    },
    {
      "metadata": {
        "id": "a2KTR07yrOta",
        "colab_type": "code",
        "colab": {}
      },
      "cell_type": "code",
      "source": [
        "# get a random batch\n",
        "pictures, labels_and_logits = train_generator.next()\n",
        "logits = labels_and_logits"
      ],
      "execution_count": 0,
      "outputs": []
    },
    {
      "metadata": {
        "id": "gmoemUJGpkc6",
        "colab_type": "code",
        "outputId": "2f134a4c-e175-453a-f1b9-9aebe9eb75ef",
        "colab": {
          "base_uri": "https://localhost:8080/",
          "height": 35
        }
      },
      "cell_type": "code",
      "source": [
        "data_format = K.image_data_format()\n",
        "img = array_to_img(pictures[1],data_format,scale=True)\n",
        "fname = '{prefix}_{index}_{hash}.{format}'.format(prefix=\"a\",\n",
        "         index=0,hash=np.random.randint(1e4),format=\"jpg\")\n",
        "img.save(fname)\n",
        "fname"
      ],
      "execution_count": 0,
      "outputs": [
        {
          "output_type": "execute_result",
          "data": {
            "text/plain": [
              "'a_0_3274.jpg'"
            ]
          },
          "metadata": {
            "tags": []
          },
          "execution_count": 109
        }
      ]
    },
    {
      "metadata": {
        "id": "0dputOl5i2i_",
        "colab_type": "code",
        "outputId": "b94b9ca0-d896-45a9-8622-81396c51d8bb",
        "colab": {
          "base_uri": "https://localhost:8080/",
          "height": 72
        }
      },
      "cell_type": "code",
      "source": [
        "logits[1]"
      ],
      "execution_count": 0,
      "outputs": [
        {
          "output_type": "execute_result",
          "data": {
            "text/plain": [
              "array([9.9999368e-01, 3.3085465e-07, 4.0610024e-07, 1.0596140e-07,\n",
              "       3.3236572e-07, 4.6808839e-07, 2.3654168e-07, 3.5196638e-07,\n",
              "       2.7739607e-06, 1.4215507e-06], dtype=float32)"
            ]
          },
          "metadata": {
            "tags": []
          },
          "execution_count": 10
        }
      ]
    },
    {
      "metadata": {
        "id": "9ZXe1_BPM4YD",
        "colab_type": "text"
      },
      "cell_type": "markdown",
      "source": [
        "test 1 ->5\n",
        "array([-3.1431096 , -2.3487477 , -1.8943748 ,  2.6037343 ,  4.023663  ,\n",
        "        5.818794  , -0.39959738, -1.4278562 , -2.1753347 , -1.8591523 ],\n",
        "      dtype=float32)\n",
        "      \n",
        " test 2 ->4\n",
        " array([-2.6974385 , -2.3446827 , -2.6954975 ,  0.74625957, 11.059016  ,\n",
        "       -0.957347  ,  2.9704058 , -2.173234  , -1.9789734 , -1.9399166 ],\n",
        "      dtype=float32)\n",
        "      \n",
        "  test3->9\n",
        "  array([ 2.682344 , -2.8602762,  4.663039 , -3.2968268, -2.1818123,\n",
        "       -2.8666215, -1.1493819, -3.0989358, -0.8861797,  8.244205 ],\n",
        "      dtype=float32)\n",
        "\n"
      ]
    },
    {
      "metadata": {
        "id": "tBIZjJ8h9wCC",
        "colab_type": "code",
        "outputId": "c453b59a-1623-4cde-858c-7181500c9131",
        "colab": {
          "base_uri": "https://localhost:8080/",
          "height": 35
        }
      },
      "cell_type": "code",
      "source": [
        "np.sum(logits[1])"
      ],
      "execution_count": 0,
      "outputs": [
        {
          "output_type": "execute_result",
          "data": {
            "text/plain": [
              "1.0000001"
            ]
          },
          "metadata": {
            "tags": []
          },
          "execution_count": 11
        }
      ]
    },
    {
      "metadata": {
        "id": "vb05arKswuGp",
        "colab_type": "code",
        "outputId": "cd71de82-e587-4ca0-c6bc-3dc0a13e904f",
        "colab": {
          "base_uri": "https://localhost:8080/",
          "height": 72
        }
      },
      "cell_type": "code",
      "source": [
        "softmax(logits[1]/3)"
      ],
      "execution_count": 0,
      "outputs": [
        {
          "output_type": "execute_result",
          "data": {
            "text/plain": [
              "array([0.13424985, 0.09619444, 0.09619444, 0.09619442, 0.09619444,\n",
              "       0.09619444, 0.09619444, 0.09619444, 0.09619452, 0.09619447],\n",
              "      dtype=float32)"
            ]
          },
          "metadata": {
            "tags": []
          },
          "execution_count": 12
        }
      ]
    },
    {
      "metadata": {
        "id": "t_D47qMhLNal",
        "colab_type": "code",
        "outputId": "eed258ea-5ab4-4aff-c6da-00ef5eaac076",
        "colab": {
          "base_uri": "https://localhost:8080/",
          "height": 35
        }
      },
      "cell_type": "code",
      "source": [
        "np.argmax(logits[1])#5"
      ],
      "execution_count": 0,
      "outputs": [
        {
          "output_type": "execute_result",
          "data": {
            "text/plain": [
              "9"
            ]
          },
          "metadata": {
            "tags": []
          },
          "execution_count": 21
        }
      ]
    },
    {
      "metadata": {
        "id": "RVKp0IEXrnWf",
        "colab_type": "code",
        "outputId": "f114063b-4027-45ef-f746-c2ec167bfc78",
        "colab": {
          "base_uri": "https://localhost:8080/",
          "height": 334
        }
      },
      "cell_type": "code",
      "source": [
        "# logits for a random image\n",
        "v = logits[1]\n",
        "plt.figure(figsize=(10, 5));\n",
        "plt.plot(softmax(v), label='$T=1$', linewidth=2);\n",
        "plt.plot(softmax(v/2), label='$T=2$', linewidth=2);\n",
        "plt.plot(softmax(v/3), label='$T=3$', linewidth=2);\n",
        "plt.plot(softmax(v/7), label='$T=7$', linewidth=2);\n",
        "plt.legend();\n",
        "plt.xlabel('classes');\n",
        "plt.ylabel('probability');\n",
        "plt.xlim([0, 10]);\n",
        "plt.savefig('5.jpg')"
      ],
      "execution_count": 0,
      "outputs": [
        {
          "output_type": "display_data",
          "data": {
            "image/png": "[encoded data removed]",
            "text/plain": [
              "<Figure size 720x360 with 1 Axes>"
            ]
          },
          "metadata": {
            "tags": []
          }
        }
      ]
    },
    {
      "metadata": {
        "id": "K84GS3xjMcr0",
        "colab_type": "code",
        "outputId": "4f73bb9d-cda9-4bc4-bee2-a8af1f58f00a",
        "colab": {
          "base_uri": "https://localhost:8080/",
          "height": 35
        }
      },
      "cell_type": "code",
      "source": [
        "#!cp \"5.jpg\" \"/content/gdrive/My Drive/Colab Notebooks/classification/distillation_squeezenet/testt_graph3.jpg\"\n",
        "#!cp \"a_0_9443.jpg\" \"/content/gdrive/My Drive/Colab Notebooks/classification/distillation_squeezenet/test_img3.jpg\""
      ],
      "execution_count": 0,
      "outputs": [
        {
          "output_type": "stream",
          "text": [
            "cp: cannot stat 'a_0_9443.jpg': No such file or directory\n"
          ],
          "name": "stdout"
        }
      ]
    },
    {
      "metadata": {
        "id": "e3gVVyhdrXwv",
        "colab_type": "code",
        "colab": {}
      },
      "cell_type": "code",
      "source": [
        "temperature = 3.0\n"
      ],
      "execution_count": 0,
      "outputs": []
    },
    {
      "metadata": {
        "id": "3vUBYI4m0JqE",
        "colab_type": "code",
        "outputId": "21e0605a-b3f1-4d76-bb82-498b0a27ee30",
        "colab": {
          "base_uri": "https://localhost:8080/",
          "height": 219
        }
      },
      "cell_type": "code",
      "source": [
        "#!wget https://raw.githubusercontent.com/Ujjwal-9/Knowledge-Distillation/master/squeezenet_weights.hdf5"
      ],
      "execution_count": 0,
      "outputs": [
        {
          "output_type": "stream",
          "text": [
            "--2019-02-25 06:45:18--  https://raw.githubusercontent.com/Ujjwal-9/Knowledge-Distillation/master/squeezenet_weights.hdf5\n",
            "Resolving raw.githubusercontent.com (raw.githubusercontent.com)... 151.101.0.133, 151.101.64.133, 151.101.128.133, ...\n",
            "Connecting to raw.githubusercontent.com (raw.githubusercontent.com)|151.101.0.133|:443... connected.\n",
            "HTTP request sent, awaiting response... 200 OK\n",
            "Length: 3034616 (2.9M) [application/octet-stream]\n",
            "Saving to: ‘squeezenet_weights.hdf5.1’\n",
            "\n",
            "squeezenet_weights. 100%[===================>]   2.89M  --.-KB/s    in 0.1s    \n",
            "\n",
            "2019-02-25 06:45:30 (29.2 MB/s) - ‘squeezenet_weights.hdf5.1’ saved [3034616/3034616]\n",
            "\n"
          ],
          "name": "stdout"
        }
      ]
    },
    {
      "metadata": {
        "id": "rjF8NQXprZxg",
        "colab_type": "code",
        "outputId": "a1e6ab54-bbb8-4ef4-845e-bbd96efd953a",
        "colab": {
          "base_uri": "https://localhost:8080/",
          "height": 6170
        }
      },
      "cell_type": "code",
      "source": [
        "model = get_mobilenet(224, alpha=0.35, weight_decay=1e-5, dropout=0.1)\n",
        "model.load_weights('/content/gdrive/My Drive/Colab Notebooks/classification/mobilenet/mobilenet.h5', by_name=True)\n",
        "\n",
        "# remove softmax\n",
        "model.layers.pop()\n",
        "\n",
        "# usual probabilities (change to this if get logits already went thourugh softmax)\n",
        "logits = model.layers[-1].output\n",
        "probabilities = Activation('softmax')(logits)\n",
        "\n",
        "# softed probabilities\n",
        "#logits_T = Lambda(lambda x: x/temperature)(logits)#temperature\n",
        "#probabilities_T = Activation('softmax')(logits_T)\n",
        "\n",
        "#output = concatenate([probabilities, probabilities_T])\n",
        "model = Model(model.input, probabilities)#output\n",
        "# now model outputs 512 dimensional vectors\n",
        "\n",
        "model.summary()"
      ],
      "execution_count": 0,
      "outputs": [
        {
          "output_type": "stream",
          "text": [
            "__________________________________________________________________________________________________\n",
            "Layer (type)                    Output Shape         Param #     Connected to                     \n",
            "==================================================================================================\n",
            "input_2 (InputLayer)            (None, 224, 224, 3)  0                                            \n",
            "__________________________________________________________________________________________________\n",
            "Conv1_pad (ZeroPadding2D)       (None, 225, 225, 3)  0           input_2[0][0]                    \n",
            "__________________________________________________________________________________________________\n",
            "Conv1 (Conv2D)                  (None, 112, 112, 16) 432         Conv1_pad[0][0]                  \n",
            "__________________________________________________________________________________________________\n",
            "bn_Conv1 (BatchNormalization)   (None, 112, 112, 16) 64          Conv1[0][0]                      \n",
            "__________________________________________________________________________________________________\n",
            "Conv1_relu (ReLU)               (None, 112, 112, 16) 0           bn_Conv1[0][0]                   \n",
            "__________________________________________________________________________________________________\n",
            "expanded_conv_depthwise (Depthw (None, 112, 112, 16) 144         Conv1_relu[0][0]                 \n",
            "__________________________________________________________________________________________________\n",
            "expanded_conv_depthwise_BN (Bat (None, 112, 112, 16) 64          expanded_conv_depthwise[0][0]    \n",
            "__________________________________________________________________________________________________\n",
            "expanded_conv_depthwise_relu (R (None, 112, 112, 16) 0           expanded_conv_depthwise_BN[0][0] \n",
            "__________________________________________________________________________________________________\n",
            "expanded_conv_project (Conv2D)  (None, 112, 112, 8)  128         expanded_conv_depthwise_relu[0][0\n",
            "__________________________________________________________________________________________________\n",
            "expanded_conv_project_BN (Batch (None, 112, 112, 8)  32          expanded_conv_project[0][0]      \n",
            "__________________________________________________________________________________________________\n",
            "block_1_expand (Conv2D)         (None, 112, 112, 48) 384         expanded_conv_project_BN[0][0]   \n",
            "__________________________________________________________________________________________________\n",
            "block_1_expand_BN (BatchNormali (None, 112, 112, 48) 192         block_1_expand[0][0]             \n",
            "__________________________________________________________________________________________________\n",
            "block_1_expand_relu (ReLU)      (None, 112, 112, 48) 0           block_1_expand_BN[0][0]          \n",
            "__________________________________________________________________________________________________\n",
            "block_1_pad (ZeroPadding2D)     (None, 113, 113, 48) 0           block_1_expand_relu[0][0]        \n",
            "__________________________________________________________________________________________________\n",
            "block_1_depthwise (DepthwiseCon (None, 56, 56, 48)   432         block_1_pad[0][0]                \n",
            "__________________________________________________________________________________________________\n",
            "block_1_depthwise_BN (BatchNorm (None, 56, 56, 48)   192         block_1_depthwise[0][0]          \n",
            "__________________________________________________________________________________________________\n",
            "block_1_depthwise_relu (ReLU)   (None, 56, 56, 48)   0           block_1_depthwise_BN[0][0]       \n",
            "__________________________________________________________________________________________________\n",
            "block_1_project (Conv2D)        (None, 56, 56, 8)    384         block_1_depthwise_relu[0][0]     \n",
            "__________________________________________________________________________________________________\n",
            "block_1_project_BN (BatchNormal (None, 56, 56, 8)    32          block_1_project[0][0]            \n",
            "__________________________________________________________________________________________________\n",
            "block_2_expand (Conv2D)         (None, 56, 56, 48)   384         block_1_project_BN[0][0]         \n",
            "__________________________________________________________________________________________________\n",
            "block_2_expand_BN (BatchNormali (None, 56, 56, 48)   192         block_2_expand[0][0]             \n",
            "__________________________________________________________________________________________________\n",
            "block_2_expand_relu (ReLU)      (None, 56, 56, 48)   0           block_2_expand_BN[0][0]          \n",
            "__________________________________________________________________________________________________\n",
            "block_2_depthwise (DepthwiseCon (None, 56, 56, 48)   432         block_2_expand_relu[0][0]        \n",
            "__________________________________________________________________________________________________\n",
            "block_2_depthwise_BN (BatchNorm (None, 56, 56, 48)   192         block_2_depthwise[0][0]          \n",
            "__________________________________________________________________________________________________\n",
            "block_2_depthwise_relu (ReLU)   (None, 56, 56, 48)   0           block_2_depthwise_BN[0][0]       \n",
            "__________________________________________________________________________________________________\n",
            "block_2_project (Conv2D)        (None, 56, 56, 8)    384         block_2_depthwise_relu[0][0]     \n",
            "__________________________________________________________________________________________________\n",
            "block_2_project_BN (BatchNormal (None, 56, 56, 8)    32          block_2_project[0][0]            \n",
            "__________________________________________________________________________________________________\n",
            "block_2_add (Add)               (None, 56, 56, 8)    0           block_1_project_BN[0][0]         \n",
            "                                                                 block_2_project_BN[0][0]         \n",
            "__________________________________________________________________________________________________\n",
            "block_3_expand (Conv2D)         (None, 56, 56, 48)   384         block_2_add[0][0]                \n",
            "__________________________________________________________________________________________________\n",
            "block_3_expand_BN (BatchNormali (None, 56, 56, 48)   192         block_3_expand[0][0]             \n",
            "__________________________________________________________________________________________________\n",
            "block_3_expand_relu (ReLU)      (None, 56, 56, 48)   0           block_3_expand_BN[0][0]          \n",
            "__________________________________________________________________________________________________\n",
            "block_3_pad (ZeroPadding2D)     (None, 57, 57, 48)   0           block_3_expand_relu[0][0]        \n",
            "__________________________________________________________________________________________________\n",
            "block_3_depthwise (DepthwiseCon (None, 28, 28, 48)   432         block_3_pad[0][0]                \n",
            "__________________________________________________________________________________________________\n",
            "block_3_depthwise_BN (BatchNorm (None, 28, 28, 48)   192         block_3_depthwise[0][0]          \n",
            "__________________________________________________________________________________________________\n",
            "block_3_depthwise_relu (ReLU)   (None, 28, 28, 48)   0           block_3_depthwise_BN[0][0]       \n",
            "__________________________________________________________________________________________________\n",
            "block_3_project (Conv2D)        (None, 28, 28, 16)   768         block_3_depthwise_relu[0][0]     \n",
            "__________________________________________________________________________________________________\n",
            "block_3_project_BN (BatchNormal (None, 28, 28, 16)   64          block_3_project[0][0]            \n",
            "__________________________________________________________________________________________________\n",
            "block_4_expand (Conv2D)         (None, 28, 28, 96)   1536        block_3_project_BN[0][0]         \n",
            "__________________________________________________________________________________________________\n",
            "block_4_expand_BN (BatchNormali (None, 28, 28, 96)   384         block_4_expand[0][0]             \n",
            "__________________________________________________________________________________________________\n",
            "block_4_expand_relu (ReLU)      (None, 28, 28, 96)   0           block_4_expand_BN[0][0]          \n",
            "__________________________________________________________________________________________________\n",
            "block_4_depthwise (DepthwiseCon (None, 28, 28, 96)   864         block_4_expand_relu[0][0]        \n",
            "__________________________________________________________________________________________________\n",
            "block_4_depthwise_BN (BatchNorm (None, 28, 28, 96)   384         block_4_depthwise[0][0]          \n",
            "__________________________________________________________________________________________________\n",
            "block_4_depthwise_relu (ReLU)   (None, 28, 28, 96)   0           block_4_depthwise_BN[0][0]       \n",
            "__________________________________________________________________________________________________\n",
            "block_4_project (Conv2D)        (None, 28, 28, 16)   1536        block_4_depthwise_relu[0][0]     \n",
            "__________________________________________________________________________________________________\n",
            "block_4_project_BN (BatchNormal (None, 28, 28, 16)   64          block_4_project[0][0]            \n",
            "__________________________________________________________________________________________________\n",
            "block_4_add (Add)               (None, 28, 28, 16)   0           block_3_project_BN[0][0]         \n",
            "                                                                 block_4_project_BN[0][0]         \n",
            "__________________________________________________________________________________________________\n",
            "block_5_expand (Conv2D)         (None, 28, 28, 96)   1536        block_4_add[0][0]                \n",
            "__________________________________________________________________________________________________\n",
            "block_5_expand_BN (BatchNormali (None, 28, 28, 96)   384         block_5_expand[0][0]             \n",
            "__________________________________________________________________________________________________\n",
            "block_5_expand_relu (ReLU)      (None, 28, 28, 96)   0           block_5_expand_BN[0][0]          \n",
            "__________________________________________________________________________________________________\n",
            "block_5_depthwise (DepthwiseCon (None, 28, 28, 96)   864         block_5_expand_relu[0][0]        \n",
            "__________________________________________________________________________________________________\n",
            "block_5_depthwise_BN (BatchNorm (None, 28, 28, 96)   384         block_5_depthwise[0][0]          \n",
            "__________________________________________________________________________________________________\n",
            "block_5_depthwise_relu (ReLU)   (None, 28, 28, 96)   0           block_5_depthwise_BN[0][0]       \n",
            "__________________________________________________________________________________________________\n",
            "block_5_project (Conv2D)        (None, 28, 28, 16)   1536        block_5_depthwise_relu[0][0]     \n",
            "__________________________________________________________________________________________________\n",
            "block_5_project_BN (BatchNormal (None, 28, 28, 16)   64          block_5_project[0][0]            \n",
            "__________________________________________________________________________________________________\n",
            "block_5_add (Add)               (None, 28, 28, 16)   0           block_4_add[0][0]                \n",
            "                                                                 block_5_project_BN[0][0]         \n",
            "__________________________________________________________________________________________________\n",
            "block_6_expand (Conv2D)         (None, 28, 28, 96)   1536        block_5_add[0][0]                \n",
            "__________________________________________________________________________________________________\n",
            "block_6_expand_BN (BatchNormali (None, 28, 28, 96)   384         block_6_expand[0][0]             \n",
            "__________________________________________________________________________________________________\n",
            "block_6_expand_relu (ReLU)      (None, 28, 28, 96)   0           block_6_expand_BN[0][0]          \n",
            "__________________________________________________________________________________________________\n",
            "block_6_pad (ZeroPadding2D)     (None, 29, 29, 96)   0           block_6_expand_relu[0][0]        \n",
            "__________________________________________________________________________________________________\n",
            "block_6_depthwise (DepthwiseCon (None, 14, 14, 96)   864         block_6_pad[0][0]                \n",
            "__________________________________________________________________________________________________\n",
            "block_6_depthwise_BN (BatchNorm (None, 14, 14, 96)   384         block_6_depthwise[0][0]          \n",
            "__________________________________________________________________________________________________\n",
            "block_6_depthwise_relu (ReLU)   (None, 14, 14, 96)   0           block_6_depthwise_BN[0][0]       \n",
            "__________________________________________________________________________________________________\n",
            "block_6_project (Conv2D)        (None, 14, 14, 24)   2304        block_6_depthwise_relu[0][0]     \n",
            "__________________________________________________________________________________________________\n",
            "block_6_project_BN (BatchNormal (None, 14, 14, 24)   96          block_6_project[0][0]            \n",
            "__________________________________________________________________________________________________\n",
            "block_7_expand (Conv2D)         (None, 14, 14, 144)  3456        block_6_project_BN[0][0]         \n",
            "__________________________________________________________________________________________________\n",
            "block_7_expand_BN (BatchNormali (None, 14, 14, 144)  576         block_7_expand[0][0]             \n",
            "__________________________________________________________________________________________________\n",
            "block_7_expand_relu (ReLU)      (None, 14, 14, 144)  0           block_7_expand_BN[0][0]          \n",
            "__________________________________________________________________________________________________\n",
            "block_7_depthwise (DepthwiseCon (None, 14, 14, 144)  1296        block_7_expand_relu[0][0]        \n",
            "__________________________________________________________________________________________________\n",
            "block_7_depthwise_BN (BatchNorm (None, 14, 14, 144)  576         block_7_depthwise[0][0]          \n",
            "__________________________________________________________________________________________________\n",
            "block_7_depthwise_relu (ReLU)   (None, 14, 14, 144)  0           block_7_depthwise_BN[0][0]       \n",
            "__________________________________________________________________________________________________\n",
            "block_7_project (Conv2D)        (None, 14, 14, 24)   3456        block_7_depthwise_relu[0][0]     \n",
            "__________________________________________________________________________________________________\n",
            "block_7_project_BN (BatchNormal (None, 14, 14, 24)   96          block_7_project[0][0]            \n",
            "__________________________________________________________________________________________________\n",
            "block_7_add (Add)               (None, 14, 14, 24)   0           block_6_project_BN[0][0]         \n",
            "                                                                 block_7_project_BN[0][0]         \n",
            "__________________________________________________________________________________________________\n",
            "block_8_expand (Conv2D)         (None, 14, 14, 144)  3456        block_7_add[0][0]                \n",
            "__________________________________________________________________________________________________\n",
            "block_8_expand_BN (BatchNormali (None, 14, 14, 144)  576         block_8_expand[0][0]             \n",
            "__________________________________________________________________________________________________\n",
            "block_8_expand_relu (ReLU)      (None, 14, 14, 144)  0           block_8_expand_BN[0][0]          \n",
            "__________________________________________________________________________________________________\n",
            "block_8_depthwise (DepthwiseCon (None, 14, 14, 144)  1296        block_8_expand_relu[0][0]        \n",
            "__________________________________________________________________________________________________\n",
            "block_8_depthwise_BN (BatchNorm (None, 14, 14, 144)  576         block_8_depthwise[0][0]          \n",
            "__________________________________________________________________________________________________\n",
            "block_8_depthwise_relu (ReLU)   (None, 14, 14, 144)  0           block_8_depthwise_BN[0][0]       \n",
            "__________________________________________________________________________________________________\n",
            "block_8_project (Conv2D)        (None, 14, 14, 24)   3456        block_8_depthwise_relu[0][0]     \n",
            "__________________________________________________________________________________________________\n",
            "block_8_project_BN (BatchNormal (None, 14, 14, 24)   96          block_8_project[0][0]            \n",
            "__________________________________________________________________________________________________\n",
            "block_8_add (Add)               (None, 14, 14, 24)   0           block_7_add[0][0]                \n",
            "                                                                 block_8_project_BN[0][0]         \n",
            "__________________________________________________________________________________________________\n",
            "block_9_expand (Conv2D)         (None, 14, 14, 144)  3456        block_8_add[0][0]                \n",
            "__________________________________________________________________________________________________\n",
            "block_9_expand_BN (BatchNormali (None, 14, 14, 144)  576         block_9_expand[0][0]             \n",
            "__________________________________________________________________________________________________\n",
            "block_9_expand_relu (ReLU)      (None, 14, 14, 144)  0           block_9_expand_BN[0][0]          \n",
            "__________________________________________________________________________________________________\n",
            "block_9_depthwise (DepthwiseCon (None, 14, 14, 144)  1296        block_9_expand_relu[0][0]        \n",
            "__________________________________________________________________________________________________\n",
            "block_9_depthwise_BN (BatchNorm (None, 14, 14, 144)  576         block_9_depthwise[0][0]          \n",
            "__________________________________________________________________________________________________\n",
            "block_9_depthwise_relu (ReLU)   (None, 14, 14, 144)  0           block_9_depthwise_BN[0][0]       \n",
            "__________________________________________________________________________________________________\n",
            "block_9_project (Conv2D)        (None, 14, 14, 24)   3456        block_9_depthwise_relu[0][0]     \n",
            "__________________________________________________________________________________________________\n",
            "block_9_project_BN (BatchNormal (None, 14, 14, 24)   96          block_9_project[0][0]            \n",
            "__________________________________________________________________________________________________\n",
            "block_9_add (Add)               (None, 14, 14, 24)   0           block_8_add[0][0]                \n",
            "                                                                 block_9_project_BN[0][0]         \n",
            "__________________________________________________________________________________________________\n",
            "block_10_expand (Conv2D)        (None, 14, 14, 144)  3456        block_9_add[0][0]                \n",
            "__________________________________________________________________________________________________\n",
            "block_10_expand_BN (BatchNormal (None, 14, 14, 144)  576         block_10_expand[0][0]            \n",
            "__________________________________________________________________________________________________\n",
            "block_10_expand_relu (ReLU)     (None, 14, 14, 144)  0           block_10_expand_BN[0][0]         \n",
            "__________________________________________________________________________________________________\n",
            "block_10_depthwise (DepthwiseCo (None, 14, 14, 144)  1296        block_10_expand_relu[0][0]       \n",
            "__________________________________________________________________________________________________\n",
            "block_10_depthwise_BN (BatchNor (None, 14, 14, 144)  576         block_10_depthwise[0][0]         \n",
            "__________________________________________________________________________________________________\n",
            "block_10_depthwise_relu (ReLU)  (None, 14, 14, 144)  0           block_10_depthwise_BN[0][0]      \n",
            "__________________________________________________________________________________________________\n",
            "block_10_project (Conv2D)       (None, 14, 14, 32)   4608        block_10_depthwise_relu[0][0]    \n",
            "__________________________________________________________________________________________________\n",
            "block_10_project_BN (BatchNorma (None, 14, 14, 32)   128         block_10_project[0][0]           \n",
            "__________________________________________________________________________________________________\n",
            "block_11_expand (Conv2D)        (None, 14, 14, 192)  6144        block_10_project_BN[0][0]        \n",
            "__________________________________________________________________________________________________\n",
            "block_11_expand_BN (BatchNormal (None, 14, 14, 192)  768         block_11_expand[0][0]            \n",
            "__________________________________________________________________________________________________\n",
            "block_11_expand_relu (ReLU)     (None, 14, 14, 192)  0           block_11_expand_BN[0][0]         \n",
            "__________________________________________________________________________________________________\n",
            "block_11_depthwise (DepthwiseCo (None, 14, 14, 192)  1728        block_11_expand_relu[0][0]       \n",
            "__________________________________________________________________________________________________\n",
            "block_11_depthwise_BN (BatchNor (None, 14, 14, 192)  768         block_11_depthwise[0][0]         \n",
            "__________________________________________________________________________________________________\n",
            "block_11_depthwise_relu (ReLU)  (None, 14, 14, 192)  0           block_11_depthwise_BN[0][0]      \n",
            "__________________________________________________________________________________________________\n",
            "block_11_project (Conv2D)       (None, 14, 14, 32)   6144        block_11_depthwise_relu[0][0]    \n",
            "__________________________________________________________________________________________________\n",
            "block_11_project_BN (BatchNorma (None, 14, 14, 32)   128         block_11_project[0][0]           \n",
            "__________________________________________________________________________________________________\n",
            "block_11_add (Add)              (None, 14, 14, 32)   0           block_10_project_BN[0][0]        \n",
            "                                                                 block_11_project_BN[0][0]        \n",
            "__________________________________________________________________________________________________\n",
            "block_12_expand (Conv2D)        (None, 14, 14, 192)  6144        block_11_add[0][0]               \n",
            "__________________________________________________________________________________________________\n",
            "block_12_expand_BN (BatchNormal (None, 14, 14, 192)  768         block_12_expand[0][0]            \n",
            "__________________________________________________________________________________________________\n",
            "block_12_expand_relu (ReLU)     (None, 14, 14, 192)  0           block_12_expand_BN[0][0]         \n",
            "__________________________________________________________________________________________________\n",
            "block_12_depthwise (DepthwiseCo (None, 14, 14, 192)  1728        block_12_expand_relu[0][0]       \n",
            "__________________________________________________________________________________________________\n",
            "block_12_depthwise_BN (BatchNor (None, 14, 14, 192)  768         block_12_depthwise[0][0]         \n",
            "__________________________________________________________________________________________________\n",
            "block_12_depthwise_relu (ReLU)  (None, 14, 14, 192)  0           block_12_depthwise_BN[0][0]      \n",
            "__________________________________________________________________________________________________\n",
            "block_12_project (Conv2D)       (None, 14, 14, 32)   6144        block_12_depthwise_relu[0][0]    \n",
            "__________________________________________________________________________________________________\n",
            "block_12_project_BN (BatchNorma (None, 14, 14, 32)   128         block_12_project[0][0]           \n",
            "__________________________________________________________________________________________________\n",
            "block_12_add (Add)              (None, 14, 14, 32)   0           block_11_add[0][0]               \n",
            "                                                                 block_12_project_BN[0][0]        \n",
            "__________________________________________________________________________________________________\n",
            "block_13_expand (Conv2D)        (None, 14, 14, 192)  6144        block_12_add[0][0]               \n",
            "__________________________________________________________________________________________________\n",
            "block_13_expand_BN (BatchNormal (None, 14, 14, 192)  768         block_13_expand[0][0]            \n",
            "__________________________________________________________________________________________________\n",
            "block_13_expand_relu (ReLU)     (None, 14, 14, 192)  0           block_13_expand_BN[0][0]         \n",
            "__________________________________________________________________________________________________\n",
            "block_13_pad (ZeroPadding2D)    (None, 15, 15, 192)  0           block_13_expand_relu[0][0]       \n",
            "__________________________________________________________________________________________________\n",
            "block_13_depthwise (DepthwiseCo (None, 7, 7, 192)    1728        block_13_pad[0][0]               \n",
            "__________________________________________________________________________________________________\n",
            "block_13_depthwise_BN (BatchNor (None, 7, 7, 192)    768         block_13_depthwise[0][0]         \n",
            "__________________________________________________________________________________________________\n",
            "block_13_depthwise_relu (ReLU)  (None, 7, 7, 192)    0           block_13_depthwise_BN[0][0]      \n",
            "__________________________________________________________________________________________________\n",
            "block_13_project (Conv2D)       (None, 7, 7, 56)     10752       block_13_depthwise_relu[0][0]    \n",
            "__________________________________________________________________________________________________\n",
            "block_13_project_BN (BatchNorma (None, 7, 7, 56)     224         block_13_project[0][0]           \n",
            "__________________________________________________________________________________________________\n",
            "block_14_expand (Conv2D)        (None, 7, 7, 336)    18816       block_13_project_BN[0][0]        \n",
            "__________________________________________________________________________________________________\n",
            "block_14_expand_BN (BatchNormal (None, 7, 7, 336)    1344        block_14_expand[0][0]            \n",
            "__________________________________________________________________________________________________\n",
            "block_14_expand_relu (ReLU)     (None, 7, 7, 336)    0           block_14_expand_BN[0][0]         \n",
            "__________________________________________________________________________________________________\n",
            "block_14_depthwise (DepthwiseCo (None, 7, 7, 336)    3024        block_14_expand_relu[0][0]       \n",
            "__________________________________________________________________________________________________\n",
            "block_14_depthwise_BN (BatchNor (None, 7, 7, 336)    1344        block_14_depthwise[0][0]         \n",
            "__________________________________________________________________________________________________\n",
            "block_14_depthwise_relu (ReLU)  (None, 7, 7, 336)    0           block_14_depthwise_BN[0][0]      \n",
            "__________________________________________________________________________________________________\n",
            "block_14_project (Conv2D)       (None, 7, 7, 56)     18816       block_14_depthwise_relu[0][0]    \n",
            "__________________________________________________________________________________________________\n",
            "block_14_project_BN (BatchNorma (None, 7, 7, 56)     224         block_14_project[0][0]           \n",
            "__________________________________________________________________________________________________\n",
            "block_14_add (Add)              (None, 7, 7, 56)     0           block_13_project_BN[0][0]        \n",
            "                                                                 block_14_project_BN[0][0]        \n",
            "__________________________________________________________________________________________________\n",
            "block_15_expand (Conv2D)        (None, 7, 7, 336)    18816       block_14_add[0][0]               \n",
            "__________________________________________________________________________________________________\n",
            "block_15_expand_BN (BatchNormal (None, 7, 7, 336)    1344        block_15_expand[0][0]            \n",
            "__________________________________________________________________________________________________\n",
            "block_15_expand_relu (ReLU)     (None, 7, 7, 336)    0           block_15_expand_BN[0][0]         \n",
            "__________________________________________________________________________________________________\n",
            "block_15_depthwise (DepthwiseCo (None, 7, 7, 336)    3024        block_15_expand_relu[0][0]       \n",
            "__________________________________________________________________________________________________\n",
            "block_15_depthwise_BN (BatchNor (None, 7, 7, 336)    1344        block_15_depthwise[0][0]         \n",
            "__________________________________________________________________________________________________\n",
            "block_15_depthwise_relu (ReLU)  (None, 7, 7, 336)    0           block_15_depthwise_BN[0][0]      \n",
            "__________________________________________________________________________________________________\n",
            "block_15_project (Conv2D)       (None, 7, 7, 56)     18816       block_15_depthwise_relu[0][0]    \n",
            "__________________________________________________________________________________________________\n",
            "block_15_project_BN (BatchNorma (None, 7, 7, 56)     224         block_15_project[0][0]           \n",
            "__________________________________________________________________________________________________\n",
            "block_15_add (Add)              (None, 7, 7, 56)     0           block_14_add[0][0]               \n",
            "                                                                 block_15_project_BN[0][0]        \n",
            "__________________________________________________________________________________________________\n",
            "block_16_expand (Conv2D)        (None, 7, 7, 336)    18816       block_15_add[0][0]               \n",
            "__________________________________________________________________________________________________\n",
            "block_16_expand_BN (BatchNormal (None, 7, 7, 336)    1344        block_16_expand[0][0]            \n",
            "__________________________________________________________________________________________________\n",
            "block_16_expand_relu (ReLU)     (None, 7, 7, 336)    0           block_16_expand_BN[0][0]         \n",
            "__________________________________________________________________________________________________\n",
            "block_16_depthwise (DepthwiseCo (None, 7, 7, 336)    3024        block_16_expand_relu[0][0]       \n",
            "__________________________________________________________________________________________________\n",
            "block_16_depthwise_BN (BatchNor (None, 7, 7, 336)    1344        block_16_depthwise[0][0]         \n",
            "__________________________________________________________________________________________________\n",
            "block_16_depthwise_relu (ReLU)  (None, 7, 7, 336)    0           block_16_depthwise_BN[0][0]      \n",
            "__________________________________________________________________________________________________\n",
            "block_16_project (Conv2D)       (None, 7, 7, 112)    37632       block_16_depthwise_relu[0][0]    \n",
            "__________________________________________________________________________________________________\n",
            "block_16_project_BN (BatchNorma (None, 7, 7, 112)    448         block_16_project[0][0]           \n",
            "__________________________________________________________________________________________________\n",
            "Conv_1 (Conv2D)                 (None, 7, 7, 1280)   143360      block_16_project_BN[0][0]        \n",
            "__________________________________________________________________________________________________\n",
            "Conv_1_bn (BatchNormalization)  (None, 7, 7, 1280)   5120        Conv_1[0][0]                     \n",
            "__________________________________________________________________________________________________\n",
            "out_relu (ReLU)                 (None, 7, 7, 1280)   0           Conv_1_bn[0][0]                  \n",
            "__________________________________________________________________________________________________\n",
            "global_average_pooling2d_2 (Glo (None, 1280)         0           out_relu[0][0]                   \n",
            "__________________________________________________________________________________________________\n",
            "dropout_2 (Dropout)             (None, 1280)         0           global_average_pooling2d_2[0][0] \n",
            "__________________________________________________________________________________________________\n",
            "dense_2 (Dense)                 (None, 10)           12810       dropout_2[0][0]                  \n",
            "__________________________________________________________________________________________________\n",
            "activation_3 (Activation)       (None, 10)           0           dense_2[0][0]                    \n",
            "==================================================================================================\n",
            "Total params: 423,018\n",
            "Trainable params: 12,810\n",
            "Non-trainable params: 410,208\n",
            "__________________________________________________________________________________________________\n"
          ],
          "name": "stdout"
        }
      ]
    },
    {
      "metadata": {
        "id": "rcqogBAwro6M",
        "colab_type": "code",
        "colab": {}
      },
      "cell_type": "code",
      "source": [
        "#lambda_const = 0.2\n",
        "\n",
        "model.compile(\n",
        "    optimizer=optimizers.SGD(lr=1e-2, momentum=0.9, nesterov=True), \n",
        "    loss='categorical_crossentropy', \n",
        "    metrics=['accuracy', 'top_k_categorical_accuracy']\n",
        ")"
      ],
      "execution_count": 0,
      "outputs": []
    },
    {
      "metadata": {
        "id": "zB4upUwsrp1B",
        "colab_type": "code",
        "outputId": "b5e3721c-c72e-492c-9f78-b694d9b6a18e",
        "colab": {
          "base_uri": "https://localhost:8080/",
          "height": 625
        }
      },
      "cell_type": "code",
      "source": [
        "\n",
        "model.fit_generator(\n",
        "    train_generator, \n",
        "    steps_per_epoch=5000//50, epochs=30, verbose=1,\n",
        "    callbacks=[\n",
        "        EarlyStopping(monitor='val_acc', patience=10, min_delta=0.01),\n",
        "        ReduceLROnPlateau(monitor='val_acc', factor=0.1, patience=2, epsilon=0.007)\n",
        "    ],\n",
        "    validation_data=val_generator, \n",
        "    validation_steps=3000//50, \n",
        "    workers=4\n",
        ")"
      ],
      "execution_count": 0,
      "outputs": [
        {
          "output_type": "stream",
          "text": [
            "WARNING:tensorflow:From /usr/local/lib/python3.6/dist-packages/tensorflow/python/ops/math_ops.py:3066: to_int32 (from tensorflow.python.ops.math_ops) is deprecated and will be removed in a future version.\n",
            "Instructions for updating:\n",
            "Use tf.cast instead.\n"
          ],
          "name": "stdout"
        },
        {
          "output_type": "stream",
          "text": [
            "/usr/local/lib/python3.6/dist-packages/keras/callbacks.py:1065: UserWarning: `epsilon` argument is deprecated and will be removed, use `min_delta` instead.\n",
            "  warnings.warn('`epsilon` argument is deprecated and '\n"
          ],
          "name": "stderr"
        },
        {
          "output_type": "stream",
          "text": [
            "Epoch 1/30\n",
            "100/100 [==============================] - 19s 193ms/step - loss: 0.7292 - acc: 0.7700 - top_k_categorical_accuracy: 0.9682 - val_loss: 1.0539 - val_acc: 0.6347 - val_top_k_categorical_accuracy: 0.9660\n",
            "Epoch 2/30\n",
            "100/100 [==============================] - 14s 140ms/step - loss: 0.4046 - acc: 0.8858 - top_k_categorical_accuracy: 0.9960 - val_loss: 1.0576 - val_acc: 0.6533 - val_top_k_categorical_accuracy: 0.9637\n",
            "Epoch 3/30\n",
            "100/100 [==============================] - 14s 143ms/step - loss: 0.3534 - acc: 0.9000 - top_k_categorical_accuracy: 0.9978 - val_loss: 0.9361 - val_acc: 0.6953 - val_top_k_categorical_accuracy: 0.9710\n",
            "Epoch 4/30\n",
            "100/100 [==============================] - 14s 143ms/step - loss: 0.3224 - acc: 0.9080 - top_k_categorical_accuracy: 0.9980 - val_loss: 0.9409 - val_acc: 0.7010 - val_top_k_categorical_accuracy: 0.9703\n",
            "Epoch 5/30\n",
            "100/100 [==============================] - 14s 143ms/step - loss: 0.3141 - acc: 0.9100 - top_k_categorical_accuracy: 0.9978 - val_loss: 1.0028 - val_acc: 0.6750 - val_top_k_categorical_accuracy: 0.9687\n",
            "Epoch 6/30\n",
            "100/100 [==============================] - 14s 137ms/step - loss: 0.2788 - acc: 0.9308 - top_k_categorical_accuracy: 0.9992 - val_loss: 0.9454 - val_acc: 0.6897 - val_top_k_categorical_accuracy: 0.9717\n",
            "Epoch 7/30\n",
            "100/100 [==============================] - 14s 143ms/step - loss: 0.2804 - acc: 0.9320 - top_k_categorical_accuracy: 0.9988 - val_loss: 0.9603 - val_acc: 0.6900 - val_top_k_categorical_accuracy: 0.9723\n",
            "Epoch 8/30\n",
            "100/100 [==============================] - 14s 143ms/step - loss: 0.2704 - acc: 0.9324 - top_k_categorical_accuracy: 0.9988 - val_loss: 0.9670 - val_acc: 0.6863 - val_top_k_categorical_accuracy: 0.9720\n",
            "Epoch 9/30\n",
            "100/100 [==============================] - 14s 143ms/step - loss: 0.2623 - acc: 0.9386 - top_k_categorical_accuracy: 0.9994 - val_loss: 0.9652 - val_acc: 0.6877 - val_top_k_categorical_accuracy: 0.9727\n",
            "Epoch 10/30\n",
            "100/100 [==============================] - 14s 143ms/step - loss: 0.2681 - acc: 0.9346 - top_k_categorical_accuracy: 0.9996 - val_loss: 0.9657 - val_acc: 0.6873 - val_top_k_categorical_accuracy: 0.9727\n",
            "Epoch 11/30\n",
            "100/100 [==============================] - 14s 144ms/step - loss: 0.2670 - acc: 0.9300 - top_k_categorical_accuracy: 0.9994 - val_loss: 0.9654 - val_acc: 0.6873 - val_top_k_categorical_accuracy: 0.9727\n",
            "Epoch 12/30\n",
            "100/100 [==============================] - 14s 141ms/step - loss: 0.2660 - acc: 0.9362 - top_k_categorical_accuracy: 0.9992 - val_loss: 0.9653 - val_acc: 0.6873 - val_top_k_categorical_accuracy: 0.9727\n",
            "Epoch 13/30\n",
            "100/100 [==============================] - 14s 141ms/step - loss: 0.2686 - acc: 0.9308 - top_k_categorical_accuracy: 0.9998 - val_loss: 0.9652 - val_acc: 0.6873 - val_top_k_categorical_accuracy: 0.9727\n"
          ],
          "name": "stdout"
        },
        {
          "output_type": "execute_result",
          "data": {
            "text/plain": [
              "<keras.callbacks.History at 0x7f1420619710>"
            ]
          },
          "metadata": {
            "tags": []
          },
          "execution_count": 27
        }
      ]
    },
    {
      "metadata": {
        "id": "Crl18ZKzruxj",
        "colab_type": "code",
        "outputId": "35e2f6bf-8d1e-4f48-cd5d-90042a94b026",
        "colab": {
          "base_uri": "https://localhost:8080/",
          "height": 279
        }
      },
      "cell_type": "code",
      "source": [
        "plt.plot(model.history.history['loss'], label='train');\n",
        "plt.plot(model.history.history['val_loss'], label='val');\n",
        "plt.legend();\n",
        "plt.xlabel('epoch');\n",
        "plt.ylabel('logloss');\n",
        "plt.savefig('mobilenet_distill_loss.jpg')"
      ],
      "execution_count": 0,
      "outputs": [
        {
          "output_type": "display_data",
          "data": {
            "image/png": "[encoded data removed]",
            "text/plain": [
              "<Figure size 432x288 with 1 Axes>"
            ]
          },
          "metadata": {
            "tags": []
          }
        }
      ]
    },
    {
      "metadata": {
        "id": "amdTsG3Erwp8",
        "colab_type": "code",
        "outputId": "ca8f5476-d10d-4042-9e5d-133609d4c2fe",
        "colab": {
          "base_uri": "https://localhost:8080/",
          "height": 281
        }
      },
      "cell_type": "code",
      "source": [
        "plt.plot(model.history.history['acc'], label='train');\n",
        "plt.plot(model.history.history['val_acc'], label='val');\n",
        "plt.legend();\n",
        "plt.xlabel('epoch');\n",
        "plt.ylabel('accuracy');\n",
        "plt.savefig('mobilenet_distill_acc.jpg')"
      ],
      "execution_count": 0,
      "outputs": [
        {
          "output_type": "display_data",
          "data": {
            "image/png": "[encoded data removed]",
            "text/plain": [
              "<Figure size 432x288 with 1 Axes>"
            ]
          },
          "metadata": {
            "tags": []
          }
        }
      ]
    },
    {
      "metadata": {
        "id": "agAZpZVnrxhF",
        "colab_type": "code",
        "outputId": "3b88e737-e372-4aae-8bb3-5e7cd1922cc2",
        "colab": {
          "base_uri": "https://localhost:8080/",
          "height": 279
        }
      },
      "cell_type": "code",
      "source": [
        "plt.plot(model.history.history['top_k_categorical_accuracy'], label='train');\n",
        "plt.plot(model.history.history['val_top_k_categorical_accuracy'], label='val');\n",
        "plt.legend();\n",
        "plt.xlabel('epoch');\n",
        "plt.ylabel('top5_accuracy');\n",
        "plt.savefig('mobilenet_distill_top5_acc.jpg')"
      ],
      "execution_count": 0,
      "outputs": [
        {
          "output_type": "display_data",
          "data": {
            "image/png": "[encoded data removed]",
            "text/plain": [
              "<Figure size 432x288 with 1 Axes>"
            ]
          },
          "metadata": {
            "tags": []
          }
        }
      ]
    },
    {
      "metadata": {
        "id": "syvuHWihr1MJ",
        "colab_type": "code",
        "outputId": "48c1f509-9ea7-4ece-ef0c-cf31d7cd24ac",
        "colab": {
          "base_uri": "https://localhost:8080/",
          "height": 35
        }
      },
      "cell_type": "code",
      "source": [
        "val_generator_no_shuffle = data_generator.flow_from_directory(\n",
        "    data_dir + 'val', val_logits,\n",
        "    target_size=(224, 224),\n",
        "    batch_size=50, shuffle=False\n",
        ")"
      ],
      "execution_count": 0,
      "outputs": [
        {
          "output_type": "stream",
          "text": [
            "Found 3000 images belonging to 10 classes.\n"
          ],
          "name": "stdout"
        }
      ]
    },
    {
      "metadata": {
        "id": "gq7KjN4Lr4sS",
        "colab_type": "code",
        "outputId": "226f7e11-7c20-4dbf-f23e-81035302609a",
        "colab": {
          "base_uri": "https://localhost:8080/",
          "height": 35
        }
      },
      "cell_type": "code",
      "source": [
        "model.evaluate_generator(val_generator_no_shuffle, 80)"
      ],
      "execution_count": 0,
      "outputs": [
        {
          "output_type": "execute_result",
          "data": {
            "text/plain": [
              "[0.9806350735016167, 0.678999999910593, 0.9752500012516976]"
            ]
          },
          "metadata": {
            "tags": []
          },
          "execution_count": 34
        }
      ]
    },
    {
      "metadata": {
        "id": "BHA8OzrOxGLa",
        "colab_type": "code",
        "colab": {}
      },
      "cell_type": "code",
      "source": [
        "model.save(\"mobilenet_distill.h5\")"
      ],
      "execution_count": 0,
      "outputs": []
    },
    {
      "metadata": {
        "id": "xf5cMN2uF-2n",
        "colab_type": "code",
        "outputId": "d556071b-b6ab-4d01-aec8-290267a26cb3",
        "colab": {
          "base_uri": "https://localhost:8080/",
          "height": 35
        }
      },
      "cell_type": "code",
      "source": [
        "data_train_generator = keras.preprocessing.image.ImageDataGenerator(\n",
        "    data_format='channels_last',\n",
        "    preprocessing_function=preprocess_input\n",
        ")\n",
        "\n",
        "test_generator = data_train_generator.flow_from_directory(\n",
        "    data_dir + 'test', shuffle=False,\n",
        "    target_size=(224, 224),\n",
        "    batch_size=50\n",
        ")"
      ],
      "execution_count": 0,
      "outputs": [
        {
          "output_type": "stream",
          "text": [
            "Found 5000 images belonging to 10 classes.\n"
          ],
          "name": "stdout"
        }
      ]
    },
    {
      "metadata": {
        "id": "efPVvWiILpp-",
        "colab_type": "code",
        "outputId": "20e16839-7dff-4ae3-8fe8-a00f76d970c7",
        "colab": {
          "base_uri": "https://localhost:8080/",
          "height": 35
        }
      },
      "cell_type": "code",
      "source": [
        "from keras.models import Model,load_model\n",
        "#vmodel = SqueezeNet(weight_decay=1e-4, image_size=299 )#1e-4\n",
        "vmodel = load_model('/content/gdrive/My Drive/Colab Notebooks/classification/mobilenet/mobilenet.h5')\n",
        "vmodel.evaluate_generator(test_generator, 80)"
      ],
      "execution_count": 0,
      "outputs": [
        {
          "output_type": "execute_result",
          "data": {
            "text/plain": [
              "[1.4247967766597867, 0.5422499997541308, 0.9507499963045121]"
            ]
          },
          "metadata": {
            "tags": []
          },
          "execution_count": 41
        }
      ]
    },
    {
      "metadata": {
        "id": "jfZ3rn7x2l60",
        "colab_type": "code",
        "outputId": "c9c21557-e467-446e-d82b-37dfd405b08d",
        "colab": {
          "base_uri": "https://localhost:8080/",
          "height": 35
        }
      },
      "cell_type": "code",
      "source": [
        "model.evaluate_generator(test_generator, 80)"
      ],
      "execution_count": 0,
      "outputs": [
        {
          "output_type": "execute_result",
          "data": {
            "text/plain": [
              "[0.9691366954473779, 0.675500001758337, 0.9720000021159649]"
            ]
          },
          "metadata": {
            "tags": []
          },
          "execution_count": 42
        }
      ]
    },
    {
      "metadata": {
        "id": "yHMfccSIwvaM",
        "colab_type": "code",
        "outputId": "e00bb269-0732-42bd-ce2b-8ee4e04d1309",
        "colab": {
          "base_uri": "https://localhost:8080/",
          "height": 35
        }
      },
      "cell_type": "code",
      "source": [
        "STEP_SIZE_TEST=test_generator.n//test_generator.batch_size\n",
        "test_generator.reset()\n",
        "pred=model.predict_generator(test_generator,verbose=1,steps=STEP_SIZE_TEST)"
      ],
      "execution_count": 0,
      "outputs": [
        {
          "output_type": "stream",
          "text": [
            "100/100 [==============================] - 16s 156ms/step\n"
          ],
          "name": "stdout"
        }
      ]
    },
    {
      "metadata": {
        "id": "cKKZXkWuw12i",
        "colab_type": "code",
        "colab": {}
      },
      "cell_type": "code",
      "source": [
        "predicted_class_indices=np.argmax(pred,axis=1)"
      ],
      "execution_count": 0,
      "outputs": []
    },
    {
      "metadata": {
        "id": "dthmQZAIw3Nw",
        "colab_type": "code",
        "colab": {}
      },
      "cell_type": "code",
      "source": [
        "labels = (train_generator.class_indices)\n",
        "labels = dict((v,k) for k,v in labels.items())\n",
        "#lbl = [ \"airplane\", \"bird\", \"car\", \"cat\", \"deer\", \"dog\", \"horse\", \"monkey\" , \"ship\", \"truck\" ]  \n",
        "predictions = [labels[k] for k in predicted_class_indices]"
      ],
      "execution_count": 0,
      "outputs": []
    },
    {
      "metadata": {
        "id": "H8PbeAoew4xl",
        "colab_type": "code",
        "colab": {}
      },
      "cell_type": "code",
      "source": [
        "import pandas as pd \n",
        "filenames=test_generator.filenames\n",
        "results=pd.DataFrame({\"Filename\":filenames,\n",
        "                      \"Predictions\":predictions})\n",
        "results.to_csv(\"mobilenet_distill_results.csv\",index=False)"
      ],
      "execution_count": 0,
      "outputs": []
    },
    {
      "metadata": {
        "id": "7t7WNRzzw6Et",
        "colab_type": "code",
        "colab": {}
      },
      "cell_type": "code",
      "source": [
        "!cp \"mobilenet_distill.h5\" \"/content/gdrive/My Drive/Colab Notebooks/classification/distillation_mobilenet/mobilenet.h5\"\n",
        "!cp \"mobilenet_distill_results.csv\" \"/content/gdrive/My Drive/Colab Notebooks/classification/distillation_mobilenet/mobilenet_results.csv\"\n",
        "!cp \"mobilenet_distill_acc.jpg\" \"/content/gdrive/My Drive/Colab Notebooks/classification/distillation_mobilenet/mobilenet_acc.jpg\"\n",
        "!cp \"mobilenet_distill_loss.jpg\" \"/content/gdrive/My Drive/Colab Notebooks/classification/distillation_mobilenet/mobilenet_loss.jpg\"\n",
        "!cp \"mobilenet_distill_top5_acc.jpg\" \"/content/gdrive/My Drive/Colab Notebooks/classification/distillation_mobilenet/mobilenet_top5_acc.jpg\""
      ],
      "execution_count": 0,
      "outputs": []
    }
  ]
}